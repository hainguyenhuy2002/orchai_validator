{
 "cells": [
  {
   "cell_type": "code",
   "execution_count": 1,
   "metadata": {},
   "outputs": [
    {
     "name": "stdout",
     "output_type": "stream",
     "text": [
      "d:\\Blockchain\\data\\orai\\orchai_validator\n"
     ]
    }
   ],
   "source": [
    "%cd .."
   ]
  },
  {
   "cell_type": "code",
   "execution_count": 2,
   "metadata": {},
   "outputs": [],
   "source": [
    "from pyspark.sql import SparkSession, DataFrame, Window\n",
    "import pyspark.sql.functions as F"
   ]
  },
  {
   "cell_type": "code",
   "execution_count": 3,
   "metadata": {},
   "outputs": [
    {
     "name": "stderr",
     "output_type": "stream",
     "text": [
      "WARNING: An illegal reflective access operation has occurred\n",
      "WARNING: Illegal reflective access by org.apache.spark.unsafe.Platform (file:/Users/nguyenhuyhai/opt/anaconda3/lib/python3.9/site-packages/pyspark/jars/spark-unsafe_2.12-3.1.2.jar) to constructor java.nio.DirectByteBuffer(long,int)\n",
      "WARNING: Please consider reporting this to the maintainers of org.apache.spark.unsafe.Platform\n",
      "WARNING: Use --illegal-access=warn to enable warnings of further illegal reflective access operations\n",
      "WARNING: All illegal access operations will be denied in a future release\n",
      "23/01/18 06:58:43 WARN NativeCodeLoader: Unable to load native-hadoop library for your platform... using builtin-java classes where applicable\n",
      "Using Spark's default log4j profile: org/apache/spark/log4j-defaults.properties\n",
      "Setting default log level to \"WARN\".\n",
      "To adjust logging level use sc.setLogLevel(newLevel). For SparkR, use setLogLevel(newLevel).\n"
     ]
    }
   ],
   "source": [
    "spark = SparkSession.builder.appName(\"Python Spark SQL basic example\").getOrCreate()"
   ]
  },
  {
   "cell_type": "code",
   "execution_count": null,
   "metadata": {},
   "outputs": [],
   "source": [
    "def preprocess(df):\n",
    "    num_val_blocks_df = (\n",
    "            df.groupBy(\"block_height\")\n",
    "            .agg({\"operator_address\": \"count\"})\n",
    "            .withColumnRenamed(\"count(operator_address)\", \"validators_count_per_block\")\n",
    "        )"
   ]
  },
  {
   "cell_type": "code",
   "execution_count": 68,
   "metadata": {},
   "outputs": [],
   "source": [
    "df = spark.createDataFrame(\n",
    "    [\n",
    "        (\"a\",1,200,1,0),\n",
    "        (\"a\",2,5,0,0),\n",
    "        (\"a\",3,2,1,0),\n",
    "        (\"a\",4,2,0,0),\n",
    "        (\"a\",5,2,0,0),\n",
    "        (\"a\",6,2,1,0),\n",
    "        (\"a\",7,2,0,1),\n",
    "        (\"a\",8,2,1,0),\n",
    "        (\"a\",9,2,0,0),\n",
    "        (\"a\",10,2,1,0),\n",
    "        (\"b\",1,4,0,0),\n",
    "        (\"b\",2,4,1,0), \n",
    "        (\"b\",3,20,0,0), \n",
    "        (\"b\",4,12,1,0), \n",
    "        (\"b\",5,12,0,0), \n",
    "        (\"b\",6,4,1,0), \n",
    "        (\"b\",7,4,1,0), \n",
    "        (\"b\",8,10,0,0), \n",
    "        (\"b\",9,4,1,0), \n",
    "        (\"b\",10,4,0,0),\n",
    "        (\"c\",1,4,0,1),\n",
    "        (\"c\",2,4,1,0), \n",
    "        (\"c\",3,4,1,0), \n",
    "        (\"c\",4,4,1,0),\n",
    "        (\"c\",5,7,0,0),\n",
    "        (\"c\",6,4,1,0), \n",
    "        (\"c\",7,4,0,0), \n",
    "        (\"c\",8,4,1,0), \n",
    "        (\"c\",9,4,1,0), \n",
    "        (\"c\",10,4,0,0),\n",
    "        (\"d\",1,4,1,0),\n",
    "        (\"d\",2,4,1,0), \n",
    "        (\"d\",3,4,1,0), \n",
    "        (\"d\",4,4,1,0),\n",
    "        (\"d\",5,7,0,1),\n",
    "        (\"d\",6,4,1,0), \n",
    "        (\"d\",7,4,0,0), \n",
    "        (\"d\",8,4,1,0), \n",
    "        (\"d\",9,4,1,0), \n",
    "        (\"d\",10,4,1,0),\n",
    "        (\"e\",1,4,1,0),\n",
    "        (\"e\",2,4,1,0), \n",
    "        (\"e\",3,4,1,0), \n",
    "        (\"e\",4,4,1,0),\n",
    "        (\"e\",5,7,1,0),\n",
    "        (\"e\",6,4,1,1), \n",
    "        (\"e\",7,4,1,0), \n",
    "        (\"e\",8,4,0,0), \n",
    "        (\"e\",9,4,1,0), \n",
    "        (\"e\",10,4,1,0),\n",
    "    \n",
    "    ],\n",
    "\n",
    "    [\"operator_address\", \"block_height\", \"tokens\", \"vote\", \"propose\"]\n",
    "    \n",
    "    \n",
    "    \n",
    "    \n",
    "    \n",
    "    \n",
    "    )"
   ]
  },
  {
   "cell_type": "code",
   "execution_count": 52,
   "metadata": {},
   "outputs": [
    {
     "name": "stdout",
     "output_type": "stream",
     "text": [
      "+----------------+------------+------+----+-------+\n",
      "|operator_address|block_height|tokens|vote|propose|\n",
      "+----------------+------------+------+----+-------+\n",
      "|               a|           1|   200|   1|      0|\n",
      "|               a|           2|     5|   1|      0|\n",
      "|               a|           3|     2|   1|      0|\n",
      "|               a|           4|     2|   1|      0|\n",
      "|               a|           5|     2|   1|      0|\n",
      "|               a|           6|     2|   1|      0|\n",
      "|               a|           7|     2|   1|      1|\n",
      "|               a|           8|     2|   1|      0|\n",
      "|               a|           9|     2|   1|      0|\n",
      "|               a|          10|     2|   1|      0|\n",
      "|               b|           1|     4|   1|      0|\n",
      "|               b|           2|     4|   1|      0|\n",
      "|               b|           3|    20|   1|      0|\n",
      "|               b|           4|    12|   1|      0|\n",
      "|               b|           6|     4|   1|      0|\n",
      "|               b|           7|     4|   1|      0|\n",
      "|               b|           8|    10|   1|      0|\n",
      "|               b|           9|     4|   1|      0|\n",
      "|               b|          10|     4|   1|      0|\n",
      "|               c|           1|     4|   1|      1|\n",
      "|               c|           2|     4|   1|      0|\n",
      "|               c|           3|     4|   1|      0|\n",
      "|               c|           4|     4|   1|      0|\n",
      "|               c|           5|     7|   1|      0|\n",
      "|               c|           6|     4|   1|      0|\n",
      "|               c|           7|     4|   1|      0|\n",
      "|               c|           8|     4|   1|      0|\n",
      "|               c|           9|     4|   1|      0|\n",
      "|               c|          10|     4|   1|      0|\n",
      "|               d|           1|     4|   1|      0|\n",
      "|               d|           2|     4|   1|      0|\n",
      "|               d|           3|     4|   1|      0|\n",
      "|               d|           4|     4|   1|      0|\n",
      "|               d|           5|     7|   1|      1|\n",
      "|               d|           6|     4|   1|      0|\n",
      "|               d|           7|     4|   1|      0|\n",
      "|               d|           8|     4|   1|      0|\n",
      "|               d|           9|     4|   1|      0|\n",
      "|               d|          10|     4|   1|      0|\n",
      "|               e|           1|     4|   1|      0|\n",
      "|               e|           2|     4|   1|      0|\n",
      "|               e|           3|     4|   1|      0|\n",
      "|               e|           4|     4|   1|      0|\n",
      "|               e|           5|     7|   1|      0|\n",
      "|               e|           6|     4|   1|      1|\n",
      "|               e|           7|     4|   1|      0|\n",
      "|               e|           8|     4|   1|      0|\n",
      "|               e|           9|     4|   1|      0|\n",
      "|               e|          10|     4|   1|      0|\n",
      "+----------------+------------+------+----+-------+\n",
      "\n"
     ]
    }
   ],
   "source": [
    "df.show(200)"
   ]
  },
  {
   "cell_type": "code",
   "execution_count": 53,
   "metadata": {},
   "outputs": [],
   "source": [
    "max_token_df = (\n",
    "            df.groupBy(\"block_height\")\n",
    "            .agg({\"tokens\": \"max\"})\n",
    "            .withColumnRenamed(\"max(tokens)\", \n",
    "            \"max_tokens_per_block\"))\n",
    "df = df.join(max_token_df, on = \"block_height\", how = \"left\").orderBy(\"block_height\")\n"
   ]
  },
  {
   "cell_type": "code",
   "execution_count": 14,
   "metadata": {},
   "outputs": [
    {
     "name": "stderr",
     "output_type": "stream",
     "text": [
      "                                                                                \r"
     ]
    },
    {
     "name": "stdout",
     "output_type": "stream",
     "text": [
      "+------------+----------------+------+-------------------------+--------------------+\n",
      "|block_height|operator_address|tokens|total_token_amt_per_block|max_tokens_per_block|\n",
      "+------------+----------------+------+-------------------------+--------------------+\n",
      "|           1|               d|     4|                        1|                 200|\n",
      "|           1|               e|     4|                        1|                 200|\n",
      "|           1|               f|     4|                        1|                 200|\n",
      "|           1|               g|     4|                        1|                 200|\n",
      "|           1|               a|   200|                        1|                 200|\n",
      "|           1|               b|     4|                        1|                 200|\n",
      "|           1|               c|     4|                        1|                 200|\n",
      "|           2|               e|     4|                        1|                   5|\n",
      "|           2|               a|     5|                        1|                   5|\n",
      "|           2|               b|     4|                        1|                   5|\n",
      "|           2|               c|     4|                        1|                   5|\n",
      "|           2|               d|     4|                        1|                   5|\n",
      "|           2|               f|     4|                        1|                   5|\n",
      "|           2|               g|     4|                        1|                   5|\n",
      "|           3|               g|     4|                        1|                  20|\n",
      "|           3|               b|    20|                        1|                  20|\n",
      "|           3|               e|     4|                        1|                  20|\n",
      "|           3|               f|     4|                        1|                  20|\n",
      "|           3|               c|     4|                        1|                  20|\n",
      "|           3|               a|     2|                        1|                  20|\n",
      "|           3|               d|     4|                        1|                  20|\n",
      "|           4|               b|    12|                        1|                  12|\n",
      "|           4|               c|     4|                        1|                  12|\n",
      "|           4|               d|     4|                        1|                  12|\n",
      "|           4|               f|     4|                        1|                  12|\n",
      "|           4|               a|     2|                        1|                  12|\n",
      "|           4|               e|     4|                        1|                  12|\n",
      "|           4|               g|     4|                        1|                  12|\n",
      "|           5|               d|     7|                        1|                   7|\n",
      "|           5|               a|     2|                        1|                   7|\n",
      "|           5|               c|     7|                        1|                   7|\n",
      "|           5|               e|     7|                        1|                   7|\n",
      "|           5|               f|     7|                        1|                   7|\n",
      "|           5|               g|     7|                        1|                   7|\n",
      "|           6|               f|     4|                        1|                   4|\n",
      "|           6|               a|     2|                        1|                   4|\n",
      "|           6|               b|     4|                        1|                   4|\n",
      "|           6|               c|     4|                        1|                   4|\n",
      "|           6|               d|     4|                        1|                   4|\n",
      "|           6|               e|     4|                        1|                   4|\n",
      "|           6|               g|     4|                        1|                   4|\n",
      "|           7|               e|     4|                        1|                   4|\n",
      "|           7|               b|     4|                        1|                   4|\n",
      "|           7|               f|     4|                        1|                   4|\n",
      "|           7|               d|     4|                        1|                   4|\n",
      "|           7|               a|     2|                        1|                   4|\n",
      "|           7|               c|     4|                        1|                   4|\n",
      "|           7|               g|     4|                        1|                   4|\n",
      "|           8|               a|     2|                        1|                  10|\n",
      "|           8|               b|    10|                        1|                  10|\n",
      "|           8|               e|     4|                        1|                  10|\n",
      "|           8|               c|     4|                        1|                  10|\n",
      "|           8|               f|     4|                        1|                  10|\n",
      "|           8|               g|     4|                        1|                  10|\n",
      "|           8|               d|     4|                        1|                  10|\n",
      "|           9|               c|     4|                        1|                   4|\n",
      "|           9|               e|     4|                        1|                   4|\n",
      "|           9|               g|     4|                        1|                   4|\n",
      "|           9|               a|     2|                        1|                   4|\n",
      "|           9|               b|     4|                        1|                   4|\n",
      "|           9|               d|     4|                        1|                   4|\n",
      "|           9|               f|     4|                        1|                   4|\n",
      "|          10|               a|     2|                        1|                   4|\n",
      "|          10|               b|     4|                        1|                   4|\n",
      "|          10|               e|     4|                        1|                   4|\n",
      "|          10|               c|     4|                        1|                   4|\n",
      "|          10|               f|     4|                        1|                   4|\n",
      "|          10|               g|     4|                        1|                   4|\n",
      "|          10|               d|     4|                        1|                   4|\n",
      "+------------+----------------+------+-------------------------+--------------------+\n",
      "\n"
     ]
    }
   ],
   "source": [
    "df.show(1000)"
   ]
  },
  {
   "cell_type": "code",
   "execution_count": 69,
   "metadata": {},
   "outputs": [],
   "source": [
    "def vote_proposed_score(df: DataFrame, vote_proposed_win_size: int):\n",
    "        # df = df.withColumn(\"vote_propose_point\", vote_score * df.vote + propose_score * df.propose)\n",
    "        # #vote, propose: TRue, False\n",
    "\n",
    "        size = vote_proposed_win_size-1\n",
    "\n",
    "        # vote_propose_score_df = df.select(\"operator_address\", \"block_height\", \"vote_propose_point\").orderBy(\n",
    "        #     \"operator_address\", \"block_height\"\n",
    "        # )\n",
    "        \n",
    "\n",
    "        cummulative_window = Window.partitionBy(\"operator_address\").orderBy(\"block_height\").rangeBetween(-size, 0)\n",
    "        ### Window for moving average step\n",
    "        ### Step now row and last \"size\" row\n",
    "\n",
    "        lag_window = Window.partitionBy(\"operator_address\").orderBy(\"block_height\")\n",
    "        ### Window for lag to check the null\n",
    "\n",
    "        df = df.withColumn(\n",
    "            ### Using lag to get the null - rows that do not change\n",
    "            \"vote_score\",\n",
    "            F.when(\n",
    "                F.lag(\"vote\", size).over(lag_window).isNotNull(), F.sum(\"vote\").over(cummulative_window)\n",
    "            ),\n",
    "        )\n",
    "\n",
    "        # df = df.join(vote_propose_score_df, on=[\"block_height\", \"operator_address\"], how=\"left\").orderBy(\"block_height\")\n",
    "        # df = df.drop(\"vote_propose_point\")\n",
    "        df = df.na.drop()\n",
    "\n",
    "        max_vote_score_df = (\n",
    "            df.groupBy(\"block_height\")\n",
    "            .agg({\"vote_score\": \"max\"})\n",
    "            .withColumnRenamed(\"max(vote_score)\", \"max_vote_score\")\n",
    "        )\n",
    "\n",
    "        df = df.join(max_vote_score_df, on=\"block_height\", how=\"left\").orderBy(\"block_height\")\n",
    "        df = df.withColumn(\"vote_score\", df.vote_score / df.max_vote_score)\n",
    "        df = df.drop(\"max_vote_score\")\n",
    "        df = df.drop(\"vote\")\n",
    "        df = df.drop(\"propose\")\n",
    "\n",
    "        return df\n"
   ]
  },
  {
   "cell_type": "code",
   "execution_count": 70,
   "metadata": {},
   "outputs": [],
   "source": [
    "df = vote_proposed_score(df, 3).orderBy(\"operator_address\", \"block_height\")"
   ]
  },
  {
   "cell_type": "code",
   "execution_count": 71,
   "metadata": {},
   "outputs": [
    {
     "name": "stderr",
     "output_type": "stream",
     "text": [
      "                                                                                \r"
     ]
    },
    {
     "name": "stdout",
     "output_type": "stream",
     "text": [
      "+------------+----------------+------+----+-------+------------------+\n",
      "|block_height|operator_address|tokens|vote|propose|        vote_score|\n",
      "+------------+----------------+------+----+-------+------------------+\n",
      "|           3|               a|     2|   1|      0|0.6666666666666666|\n",
      "|           4|               a|     2|   0|      0|0.3333333333333333|\n",
      "|           5|               a|     2|   0|      0|0.3333333333333333|\n",
      "|           6|               a|     2|   1|      0|0.3333333333333333|\n",
      "|           7|               a|     2|   0|      1|0.3333333333333333|\n",
      "|           8|               a|     2|   1|      0|               1.0|\n",
      "|           9|               a|     2|   0|      0|               0.5|\n",
      "|          10|               a|     2|   1|      0|0.6666666666666666|\n",
      "|           3|               b|    20|   0|      0|0.3333333333333333|\n",
      "|           4|               b|    12|   1|      0|0.6666666666666666|\n",
      "|           5|               b|    12|   0|      0|0.3333333333333333|\n",
      "|           6|               b|     4|   1|      0|0.6666666666666666|\n",
      "|           7|               b|     4|   1|      0|0.6666666666666666|\n",
      "|           8|               b|    10|   0|      0|               1.0|\n",
      "|           9|               b|     4|   1|      0|               1.0|\n",
      "|          10|               b|     4|   0|      0|0.3333333333333333|\n",
      "|           3|               c|     4|   1|      0|0.6666666666666666|\n",
      "|           4|               c|     4|   1|      0|               1.0|\n",
      "|           5|               c|     7|   0|      0|0.6666666666666666|\n",
      "|           6|               c|     4|   1|      0|0.6666666666666666|\n",
      "|           7|               c|     4|   0|      0|0.3333333333333333|\n",
      "|           8|               c|     4|   1|      0|               1.0|\n",
      "|           9|               c|     4|   1|      0|               1.0|\n",
      "|          10|               c|     4|   0|      0|0.6666666666666666|\n",
      "|           3|               d|     4|   1|      0|               1.0|\n",
      "|           4|               d|     4|   1|      0|               1.0|\n",
      "|           5|               d|     7|   0|      1|0.6666666666666666|\n",
      "|           6|               d|     4|   1|      0|0.6666666666666666|\n",
      "|           7|               d|     4|   0|      0|0.3333333333333333|\n",
      "|           8|               d|     4|   1|      0|               1.0|\n",
      "|           9|               d|     4|   1|      0|               1.0|\n",
      "|          10|               d|     4|   1|      0|               1.0|\n",
      "|           3|               e|     4|   1|      0|               1.0|\n",
      "|           4|               e|     4|   1|      0|               1.0|\n",
      "|           5|               e|     7|   1|      0|               1.0|\n",
      "|           6|               e|     4|   1|      1|               1.0|\n",
      "|           7|               e|     4|   1|      0|               1.0|\n",
      "|           8|               e|     4|   0|      0|               1.0|\n",
      "|           9|               e|     4|   1|      0|               1.0|\n",
      "|          10|               e|     4|   1|      0|0.6666666666666666|\n",
      "+------------+----------------+------+----+-------+------------------+\n",
      "\n"
     ]
    }
   ],
   "source": [
    "df.show(200)"
   ]
  },
  {
   "cell_type": "code",
   "execution_count": null,
   "metadata": {},
   "outputs": [],
   "source": []
  },
  {
   "cell_type": "code",
   "execution_count": null,
   "metadata": {},
   "outputs": [],
   "source": []
  },
  {
   "cell_type": "code",
   "execution_count": null,
   "metadata": {},
   "outputs": [],
   "source": []
  },
  {
   "cell_type": "code",
   "execution_count": null,
   "metadata": {},
   "outputs": [],
   "source": []
  },
  {
   "cell_type": "code",
   "execution_count": 16,
   "metadata": {},
   "outputs": [],
   "source": [
    "list = [\"oraivaloper18tf4uwrkcd4qk87jz3n0ruhsdzeg3fmdsdaw04\",\n",
    "\"oraivaloper102rpf06zhyrfps4qzvehqjtr7rh52us5z2959t\",\n",
    "\"oraivaloper10z9f6539v0ge78xlm4yh7tddrvw445s6d7s2xq\",\n",
    "\"oraivaloper1zwxeq68hunufljymhy0f0x7r2vvh9mu2hh8nt8\",\n",
    "\"oraivaloper1yujklf8xlcngsdylgqj352pj9x3yvrrwf3spc8\",\n",
    "\"oraivaloper1mrv57zj3dpfyc9yd5xptnz2tqfez9fss4c9r85\",\n",
    "\"oraivaloper17zr98cwzfqdwh69r8v5nrktsalmgs5sa83gpd9\",\n",
    "\"oraivaloper1n4xkr4k4rpynp020e8xfqwm2e95g7rzx7w6kgl\",\n",
    "\"oraivaloper1nedr7579x9dp6s3rrt7n5a5s5qczpnnstanuk5\",\n",
    "\"oraivaloper16spaytw7nhdrv9lar0quwj6eex8cw9pvmtynxd\",\n",
    "\"oraivaloper1asz5wl5c2xt8y5kyp9r04v54zh77pq90qar7e8\",\n",
    "\"oraivaloper1djm07np8dzyg4et3d7dqtr3692l80nggvl0edh\",\n",
    "\"oraivaloper1ucx0gm8kca2zvyr9d39z249j62y2t8r0rwtmr6\",\n",
    "\"oraivaloper1ch3ewye24zm094ygmxu5e4z7d0xre3vhthctpn\",\n",
    "\"oraivaloper1w96q7rrd6edc3fpmw6zayzdf5ajzucrnw3pt3s\",\n",
    "\"oraivaloper1v26tdegnk79edw7xkk2xh8qn89vy6qej6yhsev\",\n",
    "\"oraivaloper1kh9vejqxqqccavtv2nf683mx0z85mfpd7q566q\",\n",
    "\"oraivaloper1d2ths86a84rxpp7s9j64qgrypntw2pn7lndfgs\",\n",
    "\"oraivaloper1xsptthm2ylfw0salut97ldfan2jt032nye7s00\",\n",
    "\"oraivaloper1qv5jn7tueeqw7xqdn5rem7s09n7zletreera88\",\n",
    "\"oraivaloper16e6cpk6ycddk6208fpaya7tmmardhvr7h40yqy\",\n",
    "\"oraivaloper10n3fs6fkl4fp9dcsdfl2vl3ay7pk7snntfg7da\",\n",
    "\"oraivaloper130jsl66rgss6eq7qur02yfr6tzppdvxglz7n7g\",\n",
    "\"oraivaloper1yc9nysml8dxy447hp3aytr0nssr9pd9a47l7gx\",\n",
    "\"oraivaloper109vcny07r3waj9sld4ejasjyal0rudskeax7uc\",\n",
    "\"oraivaloper1h89umsrsstyeuet8kllwvf2tp630n77aymck78\",\n",
    "\"oraivaloper1mxqeldsxg60t2y6gngpdm5jf3k96dnju5el96f\",\n",
    "\"oraivaloper1rqq57xt5r5pnuguffcrltnvkul7n0jdxxdgey0\",\n",
    "\"oraivaloper1uhcwtfntsvk8gpwfxltesyl4e28aalmq9v9z0x\",\n",
    "\"oraivaloper1xesqr8vjvy34jhu027zd70ypl0nnev5euy9nyl\",\n",
    "\"oraivaloper1cp0jml5fxkdvmajcwvkue9d0sym6s0vqly88hg\",\n",
    "\"oraivaloper1u2344d8jwtsx5as7u5jw7vel28puh34q7d3y64\",\n",
    "\"oraivaloper1f6q9wjn8qp3ll8y8ztd8290vtec2yxyxxygyy2\",\n",
    "\"oraivaloper1h9gg3xavqdau6uy3r36vn4juvzsg0lqvszgtvc\",\n",
    "\"oraivaloper14nz2pqskfv9kcez8u0a9gnnsgwjerzqxpmne0y\",\n",
    "\"oraivaloper1m2d5uhr65p9vvlw2w29kajud5q529a76v22wyu\",\n",
    "\"oraivaloper13ckyvg0ah9vuujtd49yner2ky92lej6nwjvrjv\",\n",
    "\"oraivaloper12ru3276mkzuuay6vhmg3t6z9hpvrsnplm2994n\",\n",
    "\"oraivaloper14vcw5qk0tdvknpa38wz46js5g7vrvut8ku5kaa\"]"
   ]
  },
  {
   "cell_type": "code",
   "execution_count": 17,
   "metadata": {},
   "outputs": [
    {
     "data": {
      "text/plain": [
       "39"
      ]
     },
     "execution_count": 17,
     "metadata": {},
     "output_type": "execute_result"
    }
   ],
   "source": [
    "len(list)"
   ]
  },
  {
   "cell_type": "code",
   "execution_count": 15,
   "metadata": {},
   "outputs": [],
   "source": [
    "list = [1,2]"
   ]
  },
  {
   "cell_type": "code",
   "execution_count": null,
   "metadata": {},
   "outputs": [],
   "source": []
  },
  {
   "cell_type": "code",
   "execution_count": null,
   "metadata": {},
   "outputs": [],
   "source": []
  },
  {
   "cell_type": "code",
   "execution_count": null,
   "metadata": {},
   "outputs": [],
   "source": []
  },
  {
   "cell_type": "code",
   "execution_count": null,
   "metadata": {},
   "outputs": [],
   "source": []
  },
  {
   "cell_type": "code",
   "execution_count": null,
   "metadata": {},
   "outputs": [],
   "source": []
  }
 ],
 "metadata": {
  "kernelspec": {
   "display_name": "py38",
   "language": "python",
   "name": "python3"
  },
  "language_info": {
   "codemirror_mode": {
    "name": "ipython",
    "version": 3
   },
   "file_extension": ".py",
   "mimetype": "text/x-python",
   "name": "python",
   "nbconvert_exporter": "python",
   "pygments_lexer": "ipython3",
   "version": "3.9.12"
  },
  "orig_nbformat": 4,
  "vscode": {
   "interpreter": {
    "hash": "953727d1e95b678a3946b8bfc3d5a175ea50e205ad779370d1fb67fabbb85d7d"
   }
  }
 },
 "nbformat": 4,
 "nbformat_minor": 2
}
