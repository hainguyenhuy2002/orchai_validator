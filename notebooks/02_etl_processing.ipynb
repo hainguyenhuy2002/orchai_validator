{
 "cells": [
  {
   "cell_type": "code",
   "execution_count": 2,
   "metadata": {},
   "outputs": [
    {
     "name": "stdout",
     "output_type": "stream",
     "text": [
      "/Users/nguyenhuyhai/20221/lab_blockchain/orchai_validator\n"
     ]
    }
   ],
   "source": [
    "%cd .."
   ]
  },
  {
   "cell_type": "code",
   "execution_count": 3,
   "metadata": {},
   "outputs": [],
   "source": [
    "from labeling.upload import ETLProcessor, get_spark, get_batch_intervals, sampling\n",
    "from omegaconf import OmegaConf"
   ]
  },
  {
   "cell_type": "code",
   "execution_count": 4,
   "metadata": {},
   "outputs": [],
   "source": [
    "config = OmegaConf.load(\"config/local_full.yaml\")"
   ]
  },
  {
   "cell_type": "code",
   "execution_count": 5,
   "metadata": {},
   "outputs": [
    {
     "name": "stderr",
     "output_type": "stream",
     "text": [
      "WARNING: An illegal reflective access operation has occurred\n",
      "WARNING: Illegal reflective access by org.apache.spark.unsafe.Platform (file:/Users/nguyenhuyhai/opt/anaconda3/lib/python3.9/site-packages/pyspark/jars/spark-unsafe_2.12-3.1.2.jar) to constructor java.nio.DirectByteBuffer(long,int)\n",
      "WARNING: Please consider reporting this to the maintainers of org.apache.spark.unsafe.Platform\n",
      "WARNING: Use --illegal-access=warn to enable warnings of further illegal reflective access operations\n",
      "WARNING: All illegal access operations will be denied in a future release\n",
      "23/01/19 13:20:56 WARN NativeCodeLoader: Unable to load native-hadoop library for your platform... using builtin-java classes where applicable\n",
      "Using Spark's default log4j profile: org/apache/spark/log4j-defaults.properties\n",
      "Setting default log level to \"WARN\".\n",
      "To adjust logging level use sc.setLogLevel(newLevel). For SparkR, use setLogLevel(newLevel).\n"
     ]
    }
   ],
   "source": [
    "spark = get_spark()"
   ]
  },
  {
   "cell_type": "code",
   "execution_count": 5,
   "metadata": {},
   "outputs": [
    {
     "ename": "KeyboardInterrupt",
     "evalue": "",
     "output_type": "error",
     "traceback": [
      "\u001b[0;31m---------------------------------------------------------------------------\u001b[0m",
      "\u001b[0;31mKeyboardInterrupt\u001b[0m                         Traceback (most recent call last)",
      "\u001b[1;32m/Users/nguyenhuyhai/20221/lab_blockchain/orchai_validator/notebooks/02_etl_processing.ipynb Cell 5'\u001b[0m in \u001b[0;36m<cell line: 28>\u001b[0;34m()\u001b[0m\n\u001b[1;32m     <a href='vscode-notebook-cell:/Users/nguyenhuyhai/20221/lab_blockchain/orchai_validator/notebooks/02_etl_processing.ipynb#ch0000004?line=24'>25</a>\u001b[0m label_win_size \u001b[39m=\u001b[39m config\u001b[39m.\u001b[39mhp\u001b[39m.\u001b[39metl\u001b[39m.\u001b[39mlabel_win_size\n\u001b[1;32m     <a href='vscode-notebook-cell:/Users/nguyenhuyhai/20221/lab_blockchain/orchai_validator/notebooks/02_etl_processing.ipynb#ch0000004?line=25'>26</a>\u001b[0m batch_size \u001b[39m=\u001b[39m config\u001b[39m.\u001b[39mhp\u001b[39m.\u001b[39mupload\u001b[39m.\u001b[39mbatch_size\n\u001b[0;32m---> <a href='vscode-notebook-cell:/Users/nguyenhuyhai/20221/lab_blockchain/orchai_validator/notebooks/02_etl_processing.ipynb#ch0000004?line=27'>28</a>\u001b[0m \u001b[39mfor\u001b[39;00m bs, be \u001b[39min\u001b[39;00m get_batch_intervals(\n\u001b[1;32m     <a href='vscode-notebook-cell:/Users/nguyenhuyhai/20221/lab_blockchain/orchai_validator/notebooks/02_etl_processing.ipynb#ch0000004?line=28'>29</a>\u001b[0m     start_block\u001b[39m=\u001b[39;49m\u001b[39m7063372\u001b[39;49m,\n\u001b[1;32m     <a href='vscode-notebook-cell:/Users/nguyenhuyhai/20221/lab_blockchain/orchai_validator/notebooks/02_etl_processing.ipynb#ch0000004?line=29'>30</a>\u001b[0m     end_block\u001b[39m=\u001b[39;49m\u001b[39m7065370\u001b[39;49m,\n\u001b[1;32m     <a href='vscode-notebook-cell:/Users/nguyenhuyhai/20221/lab_blockchain/orchai_validator/notebooks/02_etl_processing.ipynb#ch0000004?line=30'>31</a>\u001b[0m     batch_size\u001b[39m=\u001b[39;49mbatch_size,\n\u001b[1;32m     <a href='vscode-notebook-cell:/Users/nguyenhuyhai/20221/lab_blockchain/orchai_validator/notebooks/02_etl_processing.ipynb#ch0000004?line=31'>32</a>\u001b[0m     vote_proposed_win_size\u001b[39m=\u001b[39;49mvote_proposed_win_size,\n\u001b[1;32m     <a href='vscode-notebook-cell:/Users/nguyenhuyhai/20221/lab_blockchain/orchai_validator/notebooks/02_etl_processing.ipynb#ch0000004?line=32'>33</a>\u001b[0m     label_win_size\u001b[39m=\u001b[39;49mlabel_win_size,\n\u001b[1;32m     <a href='vscode-notebook-cell:/Users/nguyenhuyhai/20221/lab_blockchain/orchai_validator/notebooks/02_etl_processing.ipynb#ch0000004?line=33'>34</a>\u001b[0m     min_block\u001b[39m=\u001b[39;49m\u001b[39m7049472\u001b[39;49m\n\u001b[1;32m     <a href='vscode-notebook-cell:/Users/nguyenhuyhai/20221/lab_blockchain/orchai_validator/notebooks/02_etl_processing.ipynb#ch0000004?line=34'>35</a>\u001b[0m ):\n\u001b[1;32m     <a href='vscode-notebook-cell:/Users/nguyenhuyhai/20221/lab_blockchain/orchai_validator/notebooks/02_etl_processing.ipynb#ch0000004?line=35'>36</a>\u001b[0m     \u001b[39mprint\u001b[39m(bs, be)\n",
      "\u001b[1;32m/Users/nguyenhuyhai/20221/lab_blockchain/orchai_validator/notebooks/02_etl_processing.ipynb Cell 5'\u001b[0m in \u001b[0;36mget_batch_intervals\u001b[0;34m(start_block, end_block, batch_size, vote_proposed_win_size, label_win_size, min_block)\u001b[0m\n\u001b[1;32m     <a href='vscode-notebook-cell:/Users/nguyenhuyhai/20221/lab_blockchain/orchai_validator/notebooks/02_etl_processing.ipynb#ch0000004?line=15'>16</a>\u001b[0m             \u001b[39mbreak\u001b[39;00m\n\u001b[1;32m     <a href='vscode-notebook-cell:/Users/nguyenhuyhai/20221/lab_blockchain/orchai_validator/notebooks/02_etl_processing.ipynb#ch0000004?line=17'>18</a>\u001b[0m     intervals\u001b[39m.\u001b[39mappend((batch_start, batch_end))\n\u001b[0;32m---> <a href='vscode-notebook-cell:/Users/nguyenhuyhai/20221/lab_blockchain/orchai_validator/notebooks/02_etl_processing.ipynb#ch0000004?line=18'>19</a>\u001b[0m     start_block \u001b[39m=\u001b[39m batch_end \u001b[39m-\u001b[39;49m label_win_size \u001b[39m+\u001b[39m \u001b[39m1\u001b[39m\n\u001b[1;32m     <a href='vscode-notebook-cell:/Users/nguyenhuyhai/20221/lab_blockchain/orchai_validator/notebooks/02_etl_processing.ipynb#ch0000004?line=20'>21</a>\u001b[0m \u001b[39mreturn\u001b[39;00m intervals\n",
      "\u001b[0;31mKeyboardInterrupt\u001b[0m: "
     ]
    }
   ],
   "source": [
    "def get_batch_intervals(start_block, end_block, batch_size, vote_proposed_win_size, label_win_size, min_block):\n",
    "    intervals = []\n",
    "    while start_block <= end_block:\n",
    "        batch_start = max(min_block, start_block - vote_proposed_win_size + 1)\n",
    "        batch_end = batch_start + batch_size - 1\n",
    "        \n",
    "        if batch_end > end_block:\n",
    "            batch_size = end_block - batch_start + 1\n",
    "            batch_size = (batch_size - vote_proposed_win_size + 1) // combine_win_size * combine_win_size + vote_proposed_win_size - 1\n",
    "            batch_end = batch_start + batch_size - 1\n",
    "            \n",
    "            if batch_start > batch_end:\n",
    "                break\n",
    "            \n",
    "            if batch_size < vote_proposed_win_size + combine_win_size + label_win_size - 1:\n",
    "                break\n",
    "\n",
    "        intervals.append((batch_start, batch_end))\n",
    "        start_block = batch_end - label_win_size + 1\n",
    "    \n",
    "    return intervals\n",
    "\n",
    "\n",
    "vote_proposed_win_size = config.hp.etl.vote_proposed_win_size\n",
    "label_win_size = config.hp.etl.label_win_size\n",
    "batch_size = config.hp.upload.batch_size\n",
    "\n",
    "for bs, be in get_batch_intervals(\n",
    "    start_block=7063372,\n",
    "    end_block=7065370,\n",
    "    batch_size=batch_size,\n",
    "    vote_proposed_win_size=vote_proposed_win_size,\n",
    "    label_win_size=label_win_size,\n",
    "    min_block=7049472\n",
    "):\n",
    "    print(bs, be)"
   ]
  },
  {
   "cell_type": "code",
   "execution_count": null,
   "metadata": {},
   "outputs": [],
   "source": [
    "7064871 - 7062873 + 1"
   ]
  },
  {
   "cell_type": "code",
   "execution_count": 6,
   "metadata": {},
   "outputs": [
    {
     "name": "stdout",
     "output_type": "stream",
     "text": [
      "Successfully queried data from database\n"
     ]
    }
   ],
   "source": [
    "df = sampling(spark, config, 7062873, 7064871)"
   ]
  },
  {
   "cell_type": "code",
   "execution_count": null,
   "metadata": {},
   "outputs": [],
   "source": [
    "df.groupBy(\"block_height\").count().count()"
   ]
  },
  {
   "cell_type": "code",
   "execution_count": 7,
   "metadata": {},
   "outputs": [
    {
     "name": "stdout",
     "output_type": "stream",
     "text": [
      "------------------------------------------------\n",
      "Successfully converted voting_power_score column\n",
      "------------------------------------------------\n",
      "Successfully converted commission_score column\n",
      "------------------------------------------------\n",
      "Successfully converted self_bonded_score column\n",
      "------------------------------------------------\n",
      "Successfully converted vote_propose_score column\n",
      "------------------------------------------------\n",
      "Sucessfully converted final_score\n",
      "------------------------------------------------\n",
      "Sucessfully shifting data\n",
      "------------------------------------------------\n"
     ]
    }
   ],
   "source": [
    "dff = ETLProcessor.data_scoring(df, **config.hp.etl)"
   ]
  },
  {
   "cell_type": "code",
   "execution_count": 8,
   "metadata": {},
   "outputs": [
    {
     "name": "stdout",
     "output_type": "stream",
     "text": [
      "root\n",
      " |-- block_height: integer (nullable = true)\n",
      " |-- operator_address: string (nullable = true)\n",
      " |-- jailed: integer (nullable = true)\n",
      " |-- status: string (nullable = true)\n",
      " |-- tokens: decimal(38,0) (nullable = true)\n",
      " |-- commission_rate: double (nullable = true)\n",
      " |-- self_bonded: decimal(38,6) (nullable = true)\n",
      " |-- delegators_token: decimal(38,6) (nullable = true)\n",
      " |-- validators_count_per_block: long (nullable = true)\n",
      " |-- total_token_amt_per_block: decimal(38,0) (nullable = true)\n",
      " |-- total_self_bonded_amt_per_block: decimal(38,6) (nullable = true)\n",
      " |-- voting_power_score: decimal(38,6) (nullable = true)\n",
      " |-- commission_score: double (nullable = true)\n",
      " |-- self_bonded_score: double (nullable = true)\n",
      " |-- vote_score: double (nullable = true)\n",
      " |-- score: double (nullable = true)\n",
      " |-- label: double (nullable = true)\n",
      "\n"
     ]
    },
    {
     "name": "stderr",
     "output_type": "stream",
     "text": [
      "23/01/19 17:30:05 WARN HeartbeatReceiver: Removing executor driver with no recent heartbeats: 578620 ms exceeds timeout 120000 ms\n",
      "23/01/19 17:30:05 WARN SparkContext: Killing executors is not supported by current scheduler.\n"
     ]
    }
   ],
   "source": [
    "dff.printSchema()"
   ]
  },
  {
   "cell_type": "code",
   "execution_count": null,
   "metadata": {},
   "outputs": [],
   "source": [
    "dff.groupBy(\"block_height\").count().count()"
   ]
  },
  {
   "cell_type": "code",
   "execution_count": null,
   "metadata": {},
   "outputs": [],
   "source": [
    "dp = dff.groupBy(\"block_height\").count().pandas_api()"
   ]
  },
  {
   "cell_type": "code",
   "execution_count": null,
   "metadata": {},
   "outputs": [],
   "source": [
    "d = dp.values"
   ]
  },
  {
   "cell_type": "code",
   "execution_count": null,
   "metadata": {},
   "outputs": [],
   "source": [
    "bh = d[:, 0]"
   ]
  },
  {
   "cell_type": "code",
   "execution_count": null,
   "metadata": {},
   "outputs": [],
   "source": [
    "bh.sort()"
   ]
  },
  {
   "cell_type": "code",
   "execution_count": null,
   "metadata": {},
   "outputs": [],
   "source": [
    "import numpy as np\n",
    "from collections import Counter\n",
    "\n",
    "cnt = Counter(np.diff(bh))\n",
    "cnt"
   ]
  },
  {
   "cell_type": "code",
   "execution_count": null,
   "metadata": {},
   "outputs": [],
   "source": [
    "bh[0], bh[-1]"
   ]
  },
  {
   "cell_type": "code",
   "execution_count": null,
   "metadata": {},
   "outputs": [],
   "source": [
    "7063372, 7064792\n",
    "7062873, 7064871"
   ]
  },
  {
   "cell_type": "code",
   "execution_count": null,
   "metadata": {},
   "outputs": [],
   "source": [
    "7063372 - 7062873 + 1"
   ]
  },
  {
   "cell_type": "code",
   "execution_count": null,
   "metadata": {},
   "outputs": [],
   "source": [
    "7064871 - 7064792 + 1"
   ]
  },
  {
   "cell_type": "code",
   "execution_count": null,
   "metadata": {},
   "outputs": [],
   "source": []
  }
 ],
 "metadata": {
  "kernelspec": {
   "display_name": "py38",
   "language": "python",
   "name": "python3"
  },
  "language_info": {
   "codemirror_mode": {
    "name": "ipython",
    "version": 3
   },
   "file_extension": ".py",
   "mimetype": "text/x-python",
   "name": "python",
   "nbconvert_exporter": "python",
   "pygments_lexer": "ipython3",
   "version": "3.9.12"
  },
  "orig_nbformat": 4,
  "vscode": {
   "interpreter": {
    "hash": "953727d1e95b678a3946b8bfc3d5a175ea50e205ad779370d1fb67fabbb85d7d"
   }
  }
 },
 "nbformat": 4,
 "nbformat_minor": 2
}
