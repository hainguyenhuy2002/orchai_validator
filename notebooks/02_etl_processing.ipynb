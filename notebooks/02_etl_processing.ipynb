{
 "cells": [
  {
   "cell_type": "code",
   "execution_count": 1,
   "metadata": {},
   "outputs": [
    {
     "name": "stdout",
     "output_type": "stream",
     "text": [
      "d:\\Blockchain\\data\\orai\\orchai_validator\n"
     ]
    }
   ],
   "source": [
    "%cd ..\n",
    "import os, sys\n",
    "sys.path.append(os.path.join(os.getcwd(), \"src\"))"
   ]
  },
  {
   "cell_type": "code",
   "execution_count": 2,
   "metadata": {},
   "outputs": [],
   "source": [
    "from orchai.upload import ETLProcessor, get_spark, sampling, uploading, validating\n",
    "from omegaconf import OmegaConf\n",
    "import pyspark.sql.functions as F\n",
    "import numpy as np"
   ]
  },
  {
   "cell_type": "code",
   "execution_count": 3,
   "metadata": {},
   "outputs": [
    {
     "name": "stdout",
     "output_type": "stream",
     "text": [
      "4001.0\n",
      "------------------------------------------------\n",
      "start-end final blocks: 7059473 7659473\n",
      "Successfully converted voting_power_score column\n",
      "------------------------------------------------\n",
      "start-end final blocks: 7059473 7659473\n",
      "Successfully converted commission_score column\n",
      "------------------------------------------------\n",
      "start-end final blocks: 7059473 7659473\n",
      "Successfully converted self_bonded_score column\n",
      "------------------------------------------------\n",
      "start-end final blocks: 7059473 7659473\n",
      "Successfully converted vote_propose_score column\n",
      "------------------------------------------------\n",
      "start-end final blocks: 7073723 7659473\n",
      "error block: 7272623 7273073 450\n",
      "Sucessfully converted final_score\n",
      "------------------------------------------------\n",
      "start-end final blocks: 7073723 7659473\n",
      "error block: 7272623 7273073 450\n",
      "Sucessfully shifting data\n",
      "------------------------------------------------\n",
      "start-end final blocks: 7073723 7227173\n",
      "start-end final blocks: 7073723 7227173\n"
     ]
    }
   ],
   "source": [
    "spark = get_spark()\n",
    "config = OmegaConf.load(\"config/etl_file_1m.yaml\")\n",
    "sb, eb = 7059473, 7659473\n",
    "print((eb - sb) / 150 + 1)\n",
    "df = sampling(spark, config, sb, eb)\n",
    "dff = ETLProcessor.data_scoring(df, **config.hp.etl)"
   ]
  },
  {
   "cell_type": "code",
   "execution_count": 5,
   "metadata": {},
   "outputs": [
    {
     "data": {
      "text/plain": [
       "7088123"
      ]
     },
     "execution_count": 5,
     "metadata": {},
     "output_type": "execute_result"
    }
   ],
   "source": [
    "7073723 + 14400"
   ]
  },
  {
   "cell_type": "code",
   "execution_count": 7,
   "metadata": {},
   "outputs": [
    {
     "data": {
      "text/plain": [
       "96.0"
      ]
     },
     "execution_count": 7,
     "metadata": {},
     "output_type": "execute_result"
    }
   ],
   "source": [
    "14400 / 150"
   ]
  },
  {
   "cell_type": "code",
   "execution_count": 11,
   "metadata": {},
   "outputs": [
    {
     "name": "stdout",
     "output_type": "stream",
     "text": [
      "start-end final blocks: 7073723 7227173\n"
     ]
    }
   ],
   "source": [
    "def validating(dff):\n",
    "    import numpy as np\n",
    "    block_heights = dff.groupBy(\"block_height\").count().select(F.col(\"block_height\"))\n",
    "    block_heights = block_heights.toPandas().to_numpy().reshape((-1,))\n",
    "    block_heights.sort()\n",
    "    print(\"start-end final blocks:\", block_heights[0], block_heights[-1])\n",
    "\n",
    "    diff = np.diff(block_heights)\n",
    "    for i, d in enumerate(diff):\n",
    "        if d != 150:\n",
    "            print(\"error block:\", block_heights[i], block_heights[i + 1], d)"
   ]
  },
  {
   "cell_type": "code",
   "execution_count": 13,
   "metadata": {},
   "outputs": [
    {
     "data": {
      "text/plain": [
       "432300"
      ]
     },
     "execution_count": 13,
     "metadata": {},
     "output_type": "execute_result"
    }
   ],
   "source": [
    "7659473 - 7227173"
   ]
  },
  {
   "cell_type": "code",
   "execution_count": 14,
   "metadata": {},
   "outputs": [
    {
     "name": "stdout",
     "output_type": "stream",
     "text": [
      "4001.0\n",
      "------------------------------------------------\n",
      "Successfully converted voting_power_score column\n",
      "------------------------------------------------\n",
      "Successfully converted commission_score column\n",
      "------------------------------------------------\n",
      "Successfully converted self_bonded_score column\n",
      "------------------------------------------------\n",
      "Successfully converted vote_propose_score column\n",
      "------------------------------------------------\n",
      "Sucessfully converted final_score\n",
      "------------------------------------------------\n",
      "Sucessfully shifting data\n",
      "------------------------------------------------\n"
     ]
    }
   ],
   "source": [
    "# config = OmegaConf.load(\"config/local_file.yaml\")\n",
    "# sb, eb = 7059473, 7659473\n",
    "# print((eb - sb) / 150 + 1)\n",
    "# df = sampling(spark, config, sb, eb)\n",
    "# dff = ETLProcessor.data_scoring(df, **config.hp.etl)"
   ]
  },
  {
   "cell_type": "code",
   "execution_count": 15,
   "metadata": {},
   "outputs": [
    {
     "name": "stdout",
     "output_type": "stream",
     "text": [
      "start-end final blocks: 7059923 7658273\n",
      "error block: 7272623 7273073 450\n"
     ]
    }
   ],
   "source": [
    "# block_heights = dff.groupBy(\"block_height\").count().select(F.col(\"block_height\"))\n",
    "# block_heights = block_heights.toPandas().to_numpy().reshape((-1,))\n",
    "# block_heights.sort()\n",
    "# print(\"start-end final blocks:\", block_heights[0], block_heights[-1])\n",
    "\n",
    "# diff = np.diff(block_heights)\n",
    "# for i, d in enumerate(diff):\n",
    "#     if d != 150:\n",
    "#         print(\"error block:\", block_heights[i], block_heights[i + 1], d)"
   ]
  },
  {
   "cell_type": "code",
   "execution_count": 16,
   "metadata": {},
   "outputs": [
    {
     "data": {
      "text/plain": [
       "1200"
      ]
     },
     "execution_count": 16,
     "metadata": {},
     "output_type": "execute_result"
    }
   ],
   "source": [
    "7659473 - 7658273"
   ]
  },
  {
   "cell_type": "code",
   "execution_count": null,
   "metadata": {},
   "outputs": [],
   "source": []
  }
 ],
 "metadata": {
  "kernelspec": {
   "display_name": "py38",
   "language": "python",
   "name": "python3"
  },
  "language_info": {
   "codemirror_mode": {
    "name": "ipython",
    "version": 3
   },
   "file_extension": ".py",
   "mimetype": "text/x-python",
   "name": "python",
   "nbconvert_exporter": "python",
   "pygments_lexer": "ipython3",
   "version": "3.8.10"
  },
  "orig_nbformat": 4,
  "vscode": {
   "interpreter": {
    "hash": "953727d1e95b678a3946b8bfc3d5a175ea50e205ad779370d1fb67fabbb85d7d"
   }
  }
 },
 "nbformat": 4,
 "nbformat_minor": 2
}
