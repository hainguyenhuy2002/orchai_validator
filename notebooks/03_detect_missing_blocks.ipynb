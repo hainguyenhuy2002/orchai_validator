{
 "cells": [
  {
   "cell_type": "code",
   "execution_count": 1,
   "metadata": {},
   "outputs": [
    {
     "name": "stdout",
     "output_type": "stream",
     "text": [
      "d:\\Blockchain\\data\\orai\\orchai_validator\n"
     ]
    }
   ],
   "source": [
    "%cd ..\n",
    "import os, sys\n",
    "sys.path.append(os.path.join(os.getcwd(), \"src\"))"
   ]
  },
  {
   "cell_type": "code",
   "execution_count": 11,
   "metadata": {},
   "outputs": [],
   "source": [
    "from orchai.tools import query, get_spark\n",
    "from orchai.upload import sampling\n",
    "from omegaconf import OmegaConf\n",
    "import pyspark.sql.functions as F"
   ]
  },
  {
   "attachments": {},
   "cell_type": "markdown",
   "metadata": {},
   "source": [
    "## Fetch block height"
   ]
  },
  {
   "cell_type": "code",
   "execution_count": 3,
   "metadata": {},
   "outputs": [],
   "source": [
    "spark = get_spark()"
   ]
  },
  {
   "cell_type": "code",
   "execution_count": 4,
   "metadata": {},
   "outputs": [],
   "source": [
    "config = OmegaConf.load(\"config/etl_file_1m.yaml\")"
   ]
  },
  {
   "cell_type": "code",
   "execution_count": 34,
   "metadata": {},
   "outputs": [],
   "source": [
    "df = sampling(spark, config, from_block=7059473, to_block=9583823)"
   ]
  },
  {
   "cell_type": "code",
   "execution_count": 6,
   "metadata": {},
   "outputs": [
    {
     "name": "stdout",
     "output_type": "stream",
     "text": [
      "root\n",
      " |-- block_height: integer (nullable = true)\n",
      " |-- operator_address: string (nullable = true)\n",
      " |-- jailed: boolean (nullable = true)\n",
      " |-- status: string (nullable = true)\n",
      " |-- tokens: decimal(38,0) (nullable = true)\n",
      " |-- commission_rate: float (nullable = true)\n",
      " |-- delegator_shares: decimal(38,0) (nullable = true)\n",
      " |-- self_bonded: decimal(38,0) (nullable = true)\n",
      " |-- propose: boolean (nullable = true)\n",
      " |-- vote: boolean (nullable = true)\n",
      "\n"
     ]
    }
   ],
   "source": [
    "df.printSchema()"
   ]
  },
  {
   "cell_type": "code",
   "execution_count": 24,
   "metadata": {},
   "outputs": [],
   "source": [
    "Dict_Null = {\n",
    "    c : df.filter(\n",
    "        F.col(c).contains('None') | \\\n",
    "        F.col(c).contains('NULL') | \\\n",
    "        (F.col(c) == '')  | \\\n",
    "        F.col(c).isNull()\n",
    "    ).count() \n",
    "    for c in df.columns\n",
    "}"
   ]
  },
  {
   "cell_type": "code",
   "execution_count": 26,
   "metadata": {},
   "outputs": [
    {
     "data": {
      "text/plain": [
       "{'block_height': 0,\n",
       " 'operator_address': 0,\n",
       " 'jailed': 0,\n",
       " 'status': 0,\n",
       " 'tokens': 0,\n",
       " 'commission_rate': 0,\n",
       " 'delegator_shares': 0,\n",
       " 'self_bonded': 0,\n",
       " 'propose': 0,\n",
       " 'vote': 0}"
      ]
     },
     "execution_count": 26,
     "metadata": {},
     "output_type": "execute_result"
    }
   ],
   "source": [
    "Dict_Null"
   ]
  },
  {
   "cell_type": "code",
   "execution_count": 35,
   "metadata": {},
   "outputs": [],
   "source": [
    "df2 = df.select(F.isnull(\"vote\"))"
   ]
  },
  {
   "cell_type": "code",
   "execution_count": 38,
   "metadata": {},
   "outputs": [
    {
     "name": "stdout",
     "output_type": "stream",
     "text": [
      "+--------------+\n",
      "|(vote IS NULL)|\n",
      "+--------------+\n",
      "|         false|\n",
      "|         false|\n",
      "|         false|\n",
      "|         false|\n",
      "|         false|\n",
      "|         false|\n",
      "|         false|\n",
      "|         false|\n",
      "|         false|\n",
      "|         false|\n",
      "|         false|\n",
      "|         false|\n",
      "|         false|\n",
      "|         false|\n",
      "|         false|\n",
      "|         false|\n",
      "|         false|\n",
      "|         false|\n",
      "|         false|\n",
      "|         false|\n",
      "+--------------+\n",
      "only showing top 20 rows\n",
      "\n"
     ]
    }
   ],
   "source": [
    "df2.show()"
   ]
  },
  {
   "cell_type": "code",
   "execution_count": 30,
   "metadata": {},
   "outputs": [
    {
     "name": "stdout",
     "output_type": "stream",
     "text": [
      "+------------+--------------------------------------------------+------+---------------------+------------+---------------+------------------------------+-----------------------------+-------+-----+\n",
      "|block_height|operator_address                                  |jailed|status               |tokens      |commission_rate|delegator_shares              |self_bonded                  |propose|vote |\n",
      "+------------+--------------------------------------------------+------+---------------------+------------+---------------+------------------------------+-----------------------------+-------+-----+\n",
      "|7227173     |oraivaloper10z9f6539v0ge78xlm4yh7tddrvw445s6d7s2xq|true  |BOND_STATUS_UNBONDING|39289300    |3.00000008E16  |39289300000000000000000000    |0                            |false  |false|\n",
      "|7227173     |oraivaloper1qv5jn7tueeqw7xqdn5rem7s09n7zletreera88|false |BOND_STATUS_BONDED   |10040155819 |3.00000008E16  |10040155819000000000000000000 |200000000000000000000000000  |false  |true |\n",
      "|7227173     |oraivaloper1zwxeq68hunufljymhy0f0x7r2vvh9mu2hh8nt8|false |BOND_STATUS_BONDED   |515584795   |3.00000008E16  |515584795000000000000000000   |119795626000000000000000000  |false  |true |\n",
      "|7227173     |oraivaloper1rqq57xt5r5pnuguffcrltnvkul7n0jdxxdgey0|false |BOND_STATUS_BONDED   |10195348794 |9.9999998E16   |10195348794000000000000000000 |2002000000000000000000000    |false  |true |\n",
      "|7227173     |oraivaloper1yc9nysml8dxy447hp3aytr0nssr9pd9a47l7gx|false |BOND_STATUS_BONDED   |11622747418 |4.9999999E16   |11623872007835572000000000000 |223014944358695600000000000  |false  |true |\n",
      "|7227173     |oraivaloper1yujklf8xlcngsdylgqj352pj9x3yvrrwf3spc8|false |BOND_STATUS_BONDED   |1009132000  |3.00000008E16  |1009132000000000000000000000  |2000000000000000000000000    |false  |true |\n",
      "|7227173     |oraivaloper1xsptthm2ylfw0salut97ldfan2jt032nye7s00|false |BOND_STATUS_BONDED   |16801000    |4.9999999E16   |16801000000000000000000000    |2200000000000000000000000    |false  |false|\n",
      "|7227173     |oraivaloper1xesqr8vjvy34jhu027zd70ypl0nnev5euy9nyl|false |BOND_STATUS_BONDED   |114845047026|3.00000008E16  |114845047026000000000000000000|6378650000000000000000000000 |false  |true |\n",
      "|7227173     |oraivaloper18tf4uwrkcd4qk87jz3n0ruhsdzeg3fmdsdaw04|false |BOND_STATUS_BONDED   |840168052   |1.00000003E16  |840168052000000000000000000   |2000000000000000000000000    |false  |true |\n",
      "|7227173     |oraivaloper1f6q9wjn8qp3ll8y8ztd8290vtec2yxyxxygyy2|false |BOND_STATUS_BONDED   |75614820675 |3.00000008E16  |75614820675000000000000000000 |309500000000000000000000000  |false  |true |\n",
      "|7227173     |oraivaloper12ru3276mkzuuay6vhmg3t6z9hpvrsnplm2994n|false |BOND_STATUS_BONDED   |44900793214 |3.00000008E16  |44900793214000000000000000000 |972508660000000000000000000  |true   |true |\n",
      "|7227173     |oraivaloper1v26tdegnk79edw7xkk2xh8qn89vy6qej6yhsev|false |BOND_STATUS_BONDED   |3466030072  |3.00000008E16  |3466376696074826000000000000  |80649789843405000000000000   |false  |true |\n",
      "|7227173     |oraivaloper1d2ths86a84rxpp7s9j64qgrypntw2pn7lndfgs|false |BOND_STATUS_BONDED   |4626965661  |3.00000008E16  |4626965661000000000000000000  |1000000000000000000000000    |false  |true |\n",
      "|7227173     |oraivaloper1djm07np8dzyg4et3d7dqtr3692l80nggvl0edh|false |BOND_STATUS_BONDED   |2416556993  |3.00000008E16  |2416556993000000000000000000  |5740000000000000000000000    |false  |true |\n",
      "|7227173     |oraivaloper1w96q7rrd6edc3fpmw6zayzdf5ajzucrnw3pt3s|false |BOND_STATUS_BONDED   |4477577259  |4.9999999E16   |4477577259000000000000000000  |1000000000000000000000000    |false  |true |\n",
      "|7227173     |oraivaloper109vcny07r3waj9sld4ejasjyal0rudskeax7uc|false |BOND_STATUS_BONDED   |15444691312 |3.00000008E16  |15444691312000000000000000000 |500380000000000000000000000  |false  |true |\n",
      "|7227173     |oraivaloper102rpf06zhyrfps4qzvehqjtr7rh52us5z2959t|false |BOND_STATUS_BONDED   |123859146   |3.00000008E16  |123859146000000000000000000   |2000000000000000000000000    |false  |true |\n",
      "|7227173     |oraivaloper130jsl66rgss6eq7qur02yfr6tzppdvxglz7n7g|false |BOND_STATUS_BONDED   |2147204747  |9.9999998E16   |2147848897570233000000000000  |1500834517219199700000000000 |false  |true |\n",
      "|7227173     |oraivaloper13ckyvg0ah9vuujtd49yner2ky92lej6nwjvrjv|false |BOND_STATUS_BONDED   |47325328623 |3.00000008E16  |47325328623000000000000000000 |782459628000000000000000000  |false  |true |\n",
      "|7227173     |oraivaloper1n4xkr4k4rpynp020e8xfqwm2e95g7rzx7w6kgl|false |BOND_STATUS_BONDED   |1862365986  |3.00000008E16  |1862365986000000000000000000  |458540582000000000000000000  |false  |true |\n",
      "|7227173     |oraivaloper1nedr7579x9dp6s3rrt7n5a5s5qczpnnstanuk5|false |BOND_STATUS_BONDED   |12619000    |4.9999999E16   |12619000000000000000000000    |1000000000000000000000000    |false  |true |\n",
      "|7227173     |oraivaloper14vcw5qk0tdvknpa38wz46js5g7vrvut8ku5kaa|false |BOND_STATUS_BONDED   |28559914316 |9.9999998E17   |28562770568622807000000000000 |1009988000000000000000000    |false  |true |\n",
      "|7227173     |oraivaloper14nz2pqskfv9kcez8u0a9gnnsgwjerzqxpmne0y|false |BOND_STATUS_BONDED   |50312413960 |3.00000008E16  |50317444963582710000000000000 |1062053297804422000000000000 |false  |true |\n",
      "|7227173     |oraivaloper1kh9vejqxqqccavtv2nf683mx0z85mfpd7q566q|false |BOND_STATUS_BONDED   |1169582016  |4.9999999E16   |1169582016000000000000000000  |815957086000000000000000000  |false  |true |\n",
      "|7227173     |oraivaloper1h9gg3xavqdau6uy3r36vn4juvzsg0lqvszgtvc|false |BOND_STATUS_BONDED   |62353465206 |3.00000008E16  |62353465206000000000000000000 |164032612000000000000000000  |false  |true |\n",
      "|7227173     |oraivaloper1h89umsrsstyeuet8kllwvf2tp630n77aymck78|false |BOND_STATUS_BONDED   |18026077336 |4.9999999E16   |18026077336000000000000000000 |9001884940000000000000000000 |false  |true |\n",
      "|7227173     |oraivaloper1cp0jml5fxkdvmajcwvkue9d0sym6s0vqly88hg|false |BOND_STATUS_BONDED   |68334143090 |3.00000008E16  |68334143090000000000000000000 |6432280000000000000000000000 |false  |true |\n",
      "|7227173     |oraivaloper1ch3ewye24zm094ygmxu5e4z7d0xre3vhthctpn|false |BOND_STATUS_BONDED   |463487646   |4.9999999E16   |463487646000000000000000000   |25290000000000000000000000   |false  |true |\n",
      "|7227173     |oraivaloper16spaytw7nhdrv9lar0quwj6eex8cw9pvmtynxd|false |BOND_STATUS_BONDED   |81887424    |4.9999999E16   |81887424000000000000000000    |1000741000000000000000000    |false  |true |\n",
      "|7227173     |oraivaloper16e6cpk6ycddk6208fpaya7tmmardhvr7h40yqy|false |BOND_STATUS_BONDED   |3166740599  |7.0E16         |3167057260798516000000000000  |1000099996678133000000000000 |false  |true |\n",
      "|7227173     |oraivaloper1mrv57zj3dpfyc9yd5xptnz2tqfez9fss4c9r85|false |BOND_STATUS_BONDED   |1963186900  |3.00000008E16  |1963186900000000000000000000  |85170000000000000000000000   |false  |true |\n",
      "|7227173     |oraivaloper1mxqeldsxg60t2y6gngpdm5jf3k96dnju5el96f|false |BOND_STATUS_BONDED   |13217561439 |9.9999998E16   |13217561439000000000000000000 |10002002000000000000000000000|false  |true |\n",
      "|7227173     |oraivaloper1m2d5uhr65p9vvlw2w29kajud5q529a76v22wyu|false |BOND_STATUS_BONDED   |54392347132 |3.00000008E16  |54392347132000000000000000000 |60485733000000000000000000   |false  |true |\n",
      "|7227173     |oraivaloper1u2344d8jwtsx5as7u5jw7vel28puh34q7d3y64|false |BOND_STATUS_BONDED   |26463413084 |3.00000008E16  |26463413084000000000000000000 |3251000000000000000000000000 |false  |true |\n",
      "|7227173     |oraivaloper1uhcwtfntsvk8gpwfxltesyl4e28aalmq9v9z0x|false |BOND_STATUS_BONDED   |157739605132|3.00000008E16  |157739605132000000000000000000|6028580000000000000000000000 |false  |true |\n",
      "|7227173     |oraivaloper1ucx0gm8kca2zvyr9d39z249j62y2t8r0rwtmr6|false |BOND_STATUS_BONDED   |3885444551  |3.00000008E16  |3885444551000000000000000000  |6070000000000000000000000    |false  |true |\n",
      "|7227173     |oraivaloper1asz5wl5c2xt8y5kyp9r04v54zh77pq90qar7e8|false |BOND_STATUS_BONDED   |177896626   |4.9999999E16   |177896626000000000000000000   |2000000000000000000000000    |false  |true |\n",
      "|7227173     |oraivaloper17zr98cwzfqdwh69r8v5nrktsalmgs5sa83gpd9|false |BOND_STATUS_BONDED   |1683320339  |3.00000008E16  |1683487214506087300000000000  |150014870515705510000000000  |false  |true |\n",
      "|7227173     |oraivaloper10n3fs6fkl4fp9dcsdfl2vl3ay7pk7snntfg7da|true  |BOND_STATUS_UNBONDING|45696429    |4.9999999E16   |45700934916326180000000000    |1000000000000000000000000    |false  |false|\n",
      "|7227323     |oraivaloper10z9f6539v0ge78xlm4yh7tddrvw445s6d7s2xq|true  |BOND_STATUS_UNBONDING|39289300    |3.00000008E16  |39289300000000000000000000    |0                            |false  |false|\n",
      "|7227323     |oraivaloper1qv5jn7tueeqw7xqdn5rem7s09n7zletreera88|false |BOND_STATUS_BONDED   |10040155819 |3.00000008E16  |10040155819000000000000000000 |200000000000000000000000000  |false  |true |\n",
      "|7227323     |oraivaloper1zwxeq68hunufljymhy0f0x7r2vvh9mu2hh8nt8|false |BOND_STATUS_BONDED   |515584795   |3.00000008E16  |515584795000000000000000000   |119795626000000000000000000  |false  |true |\n",
      "|7227323     |oraivaloper1rqq57xt5r5pnuguffcrltnvkul7n0jdxxdgey0|false |BOND_STATUS_BONDED   |10195348794 |9.9999998E16   |10195348794000000000000000000 |2002000000000000000000000    |false  |true |\n",
      "|7227323     |oraivaloper1yc9nysml8dxy447hp3aytr0nssr9pd9a47l7gx|false |BOND_STATUS_BONDED   |11622747418 |4.9999999E16   |11623872007835572000000000000 |223014944358695600000000000  |false  |true |\n",
      "|7227323     |oraivaloper1yujklf8xlcngsdylgqj352pj9x3yvrrwf3spc8|false |BOND_STATUS_BONDED   |1009132000  |3.00000008E16  |1009132000000000000000000000  |2000000000000000000000000    |false  |true |\n",
      "|7227323     |oraivaloper1xsptthm2ylfw0salut97ldfan2jt032nye7s00|false |BOND_STATUS_BONDED   |16801000    |4.9999999E16   |16801000000000000000000000    |2200000000000000000000000    |false  |false|\n",
      "|7227323     |oraivaloper1xesqr8vjvy34jhu027zd70ypl0nnev5euy9nyl|false |BOND_STATUS_BONDED   |114845047026|3.00000008E16  |114845047026000000000000000000|6378650000000000000000000000 |false  |true |\n",
      "|7227323     |oraivaloper18tf4uwrkcd4qk87jz3n0ruhsdzeg3fmdsdaw04|false |BOND_STATUS_BONDED   |840168052   |1.00000003E16  |840168052000000000000000000   |2000000000000000000000000    |false  |true |\n",
      "|7227323     |oraivaloper1f6q9wjn8qp3ll8y8ztd8290vtec2yxyxxygyy2|false |BOND_STATUS_BONDED   |75614820675 |3.00000008E16  |75614820675000000000000000000 |309500000000000000000000000  |false  |true |\n",
      "|7227323     |oraivaloper12ru3276mkzuuay6vhmg3t6z9hpvrsnplm2994n|false |BOND_STATUS_BONDED   |44900793214 |3.00000008E16  |44900793214000000000000000000 |972508660000000000000000000  |true   |true |\n",
      "|7227323     |oraivaloper1v26tdegnk79edw7xkk2xh8qn89vy6qej6yhsev|false |BOND_STATUS_BONDED   |3466030072  |3.00000008E16  |3466376696074826000000000000  |80649789843405000000000000   |false  |true |\n",
      "|7227323     |oraivaloper1d2ths86a84rxpp7s9j64qgrypntw2pn7lndfgs|false |BOND_STATUS_BONDED   |4626965661  |3.00000008E16  |4626965661000000000000000000  |1000000000000000000000000    |false  |true |\n",
      "|7227323     |oraivaloper1djm07np8dzyg4et3d7dqtr3692l80nggvl0edh|false |BOND_STATUS_BONDED   |2416556993  |3.00000008E16  |2416556993000000000000000000  |5740000000000000000000000    |false  |true |\n",
      "|7227323     |oraivaloper1w96q7rrd6edc3fpmw6zayzdf5ajzucrnw3pt3s|false |BOND_STATUS_BONDED   |4477577259  |4.9999999E16   |4477577259000000000000000000  |1000000000000000000000000    |false  |true |\n",
      "|7227323     |oraivaloper109vcny07r3waj9sld4ejasjyal0rudskeax7uc|false |BOND_STATUS_BONDED   |15444691312 |3.00000008E16  |15444691312000000000000000000 |500380000000000000000000000  |false  |true |\n",
      "|7227323     |oraivaloper102rpf06zhyrfps4qzvehqjtr7rh52us5z2959t|false |BOND_STATUS_BONDED   |123859146   |3.00000008E16  |123859146000000000000000000   |2000000000000000000000000    |false  |true |\n",
      "|7227323     |oraivaloper130jsl66rgss6eq7qur02yfr6tzppdvxglz7n7g|false |BOND_STATUS_BONDED   |2147204747  |9.9999998E16   |2147848897570233000000000000  |1500834517219199700000000000 |false  |true |\n",
      "|7227323     |oraivaloper13ckyvg0ah9vuujtd49yner2ky92lej6nwjvrjv|false |BOND_STATUS_BONDED   |47325328623 |3.00000008E16  |47325328623000000000000000000 |782459628000000000000000000  |false  |true |\n",
      "|7227323     |oraivaloper1n4xkr4k4rpynp020e8xfqwm2e95g7rzx7w6kgl|false |BOND_STATUS_BONDED   |1862365986  |3.00000008E16  |1862365986000000000000000000  |458540582000000000000000000  |false  |true |\n",
      "|7227323     |oraivaloper1nedr7579x9dp6s3rrt7n5a5s5qczpnnstanuk5|false |BOND_STATUS_BONDED   |12619000    |4.9999999E16   |12619000000000000000000000    |1000000000000000000000000    |false  |true |\n",
      "|7227323     |oraivaloper14vcw5qk0tdvknpa38wz46js5g7vrvut8ku5kaa|false |BOND_STATUS_BONDED   |28559914316 |9.9999998E17   |28562770568622807000000000000 |1009988000000000000000000    |false  |true |\n",
      "|7227323     |oraivaloper14nz2pqskfv9kcez8u0a9gnnsgwjerzqxpmne0y|false |BOND_STATUS_BONDED   |50312413960 |3.00000008E16  |50317444963582710000000000000 |1062053297804422000000000000 |false  |true |\n",
      "|7227323     |oraivaloper1kh9vejqxqqccavtv2nf683mx0z85mfpd7q566q|false |BOND_STATUS_BONDED   |1169582016  |4.9999999E16   |1169582016000000000000000000  |815957086000000000000000000  |false  |true |\n",
      "|7227323     |oraivaloper1h9gg3xavqdau6uy3r36vn4juvzsg0lqvszgtvc|false |BOND_STATUS_BONDED   |62353465206 |3.00000008E16  |62353465206000000000000000000 |164032612000000000000000000  |false  |true |\n",
      "|7227323     |oraivaloper1h89umsrsstyeuet8kllwvf2tp630n77aymck78|false |BOND_STATUS_BONDED   |18026077336 |4.9999999E16   |18026077336000000000000000000 |9001884940000000000000000000 |false  |true |\n",
      "|7227323     |oraivaloper1cp0jml5fxkdvmajcwvkue9d0sym6s0vqly88hg|false |BOND_STATUS_BONDED   |68334143090 |3.00000008E16  |68334143090000000000000000000 |6432280000000000000000000000 |false  |true |\n",
      "|7227323     |oraivaloper1ch3ewye24zm094ygmxu5e4z7d0xre3vhthctpn|false |BOND_STATUS_BONDED   |463487646   |4.9999999E16   |463487646000000000000000000   |25290000000000000000000000   |false  |true |\n",
      "|7227323     |oraivaloper16spaytw7nhdrv9lar0quwj6eex8cw9pvmtynxd|false |BOND_STATUS_BONDED   |81887424    |4.9999999E16   |81887424000000000000000000    |1000741000000000000000000    |false  |true |\n",
      "|7227323     |oraivaloper16e6cpk6ycddk6208fpaya7tmmardhvr7h40yqy|false |BOND_STATUS_BONDED   |3166740599  |7.0E16         |3167057260798516000000000000  |1000099996678133000000000000 |false  |true |\n",
      "|7227323     |oraivaloper1mrv57zj3dpfyc9yd5xptnz2tqfez9fss4c9r85|false |BOND_STATUS_BONDED   |1963186900  |3.00000008E16  |1963186900000000000000000000  |85170000000000000000000000   |false  |true |\n",
      "|7227323     |oraivaloper1mxqeldsxg60t2y6gngpdm5jf3k96dnju5el96f|false |BOND_STATUS_BONDED   |13217561439 |9.9999998E16   |13217561439000000000000000000 |10002002000000000000000000000|false  |true |\n",
      "|7227323     |oraivaloper1m2d5uhr65p9vvlw2w29kajud5q529a76v22wyu|false |BOND_STATUS_BONDED   |54392347132 |3.00000008E16  |54392347132000000000000000000 |60485733000000000000000000   |false  |true |\n",
      "|7227323     |oraivaloper1u2344d8jwtsx5as7u5jw7vel28puh34q7d3y64|false |BOND_STATUS_BONDED   |26463413084 |3.00000008E16  |26463413084000000000000000000 |3251000000000000000000000000 |false  |true |\n",
      "|7227323     |oraivaloper1uhcwtfntsvk8gpwfxltesyl4e28aalmq9v9z0x|false |BOND_STATUS_BONDED   |157739605132|3.00000008E16  |157739605132000000000000000000|6028580000000000000000000000 |false  |true |\n",
      "|7227323     |oraivaloper1ucx0gm8kca2zvyr9d39z249j62y2t8r0rwtmr6|false |BOND_STATUS_BONDED   |3885444551  |3.00000008E16  |3885444551000000000000000000  |6070000000000000000000000    |false  |true |\n",
      "|7227323     |oraivaloper1asz5wl5c2xt8y5kyp9r04v54zh77pq90qar7e8|false |BOND_STATUS_BONDED   |177896626   |4.9999999E16   |177896626000000000000000000   |2000000000000000000000000    |false  |true |\n",
      "|7227323     |oraivaloper17zr98cwzfqdwh69r8v5nrktsalmgs5sa83gpd9|false |BOND_STATUS_BONDED   |1683320339  |3.00000008E16  |1683487214506087300000000000  |150014870515705510000000000  |false  |true |\n",
      "|7227323     |oraivaloper10n3fs6fkl4fp9dcsdfl2vl3ay7pk7snntfg7da|true  |BOND_STATUS_UNBONDING|45696429    |4.9999999E16   |45700934916326180000000000    |1000000000000000000000000    |false  |false|\n",
      "|7227473     |oraivaloper10z9f6539v0ge78xlm4yh7tddrvw445s6d7s2xq|true  |BOND_STATUS_UNBONDING|39289300    |3.00000008E16  |39289300000000000000000000    |0                            |false  |false|\n",
      "|7227473     |oraivaloper1qv5jn7tueeqw7xqdn5rem7s09n7zletreera88|false |BOND_STATUS_BONDED   |10040155819 |3.00000008E16  |10040155819000000000000000000 |200000000000000000000000000  |false  |true |\n",
      "|7227473     |oraivaloper1zwxeq68hunufljymhy0f0x7r2vvh9mu2hh8nt8|false |BOND_STATUS_BONDED   |515584795   |3.00000008E16  |515584795000000000000000000   |119795626000000000000000000  |false  |true |\n",
      "|7227473     |oraivaloper1rqq57xt5r5pnuguffcrltnvkul7n0jdxxdgey0|false |BOND_STATUS_BONDED   |10195348794 |9.9999998E16   |10195348794000000000000000000 |2002000000000000000000000    |false  |true |\n",
      "|7227473     |oraivaloper1yc9nysml8dxy447hp3aytr0nssr9pd9a47l7gx|false |BOND_STATUS_BONDED   |11622747418 |4.9999999E16   |11623872007835572000000000000 |223014944358695600000000000  |false  |true |\n",
      "|7227473     |oraivaloper1yujklf8xlcngsdylgqj352pj9x3yvrrwf3spc8|false |BOND_STATUS_BONDED   |1009132000  |3.00000008E16  |1009132000000000000000000000  |2000000000000000000000000    |false  |true |\n",
      "|7227473     |oraivaloper1xsptthm2ylfw0salut97ldfan2jt032nye7s00|false |BOND_STATUS_BONDED   |16801000    |4.9999999E16   |16801000000000000000000000    |2200000000000000000000000    |false  |false|\n",
      "|7227473     |oraivaloper1xesqr8vjvy34jhu027zd70ypl0nnev5euy9nyl|false |BOND_STATUS_BONDED   |114845047026|3.00000008E16  |114845047026000000000000000000|6378650000000000000000000000 |false  |true |\n",
      "|7227473     |oraivaloper18tf4uwrkcd4qk87jz3n0ruhsdzeg3fmdsdaw04|false |BOND_STATUS_BONDED   |840168052   |1.00000003E16  |840168052000000000000000000   |2000000000000000000000000    |false  |true |\n",
      "|7227473     |oraivaloper1f6q9wjn8qp3ll8y8ztd8290vtec2yxyxxygyy2|false |BOND_STATUS_BONDED   |75614820675 |3.00000008E16  |75614820675000000000000000000 |309500000000000000000000000  |false  |true |\n",
      "|7227473     |oraivaloper12ru3276mkzuuay6vhmg3t6z9hpvrsnplm2994n|false |BOND_STATUS_BONDED   |44900793214 |3.00000008E16  |44900793214000000000000000000 |972508660000000000000000000  |false  |true |\n",
      "|7227473     |oraivaloper1v26tdegnk79edw7xkk2xh8qn89vy6qej6yhsev|false |BOND_STATUS_BONDED   |3466030072  |3.00000008E16  |3466376696074826000000000000  |80649789843405000000000000   |false  |true |\n",
      "|7227473     |oraivaloper1d2ths86a84rxpp7s9j64qgrypntw2pn7lndfgs|false |BOND_STATUS_BONDED   |4626965661  |3.00000008E16  |4626965661000000000000000000  |1000000000000000000000000    |false  |true |\n",
      "|7227473     |oraivaloper1djm07np8dzyg4et3d7dqtr3692l80nggvl0edh|false |BOND_STATUS_BONDED   |2416556993  |3.00000008E16  |2416556993000000000000000000  |5740000000000000000000000    |false  |true |\n",
      "|7227473     |oraivaloper1w96q7rrd6edc3fpmw6zayzdf5ajzucrnw3pt3s|false |BOND_STATUS_BONDED   |4477687259  |4.9999999E16   |4477687259000000000000000000  |1000000000000000000000000    |false  |true |\n",
      "|7227473     |oraivaloper109vcny07r3waj9sld4ejasjyal0rudskeax7uc|false |BOND_STATUS_BONDED   |15444691312 |3.00000008E16  |15444691312000000000000000000 |500380000000000000000000000  |false  |true |\n",
      "|7227473     |oraivaloper102rpf06zhyrfps4qzvehqjtr7rh52us5z2959t|false |BOND_STATUS_BONDED   |123859146   |3.00000008E16  |123859146000000000000000000   |2000000000000000000000000    |false  |true |\n",
      "|7227473     |oraivaloper130jsl66rgss6eq7qur02yfr6tzppdvxglz7n7g|false |BOND_STATUS_BONDED   |2147204747  |9.9999998E16   |2147848897570233000000000000  |1500834517219199700000000000 |false  |true |\n",
      "|7227473     |oraivaloper13ckyvg0ah9vuujtd49yner2ky92lej6nwjvrjv|false |BOND_STATUS_BONDED   |47325328623 |3.00000008E16  |47325328623000000000000000000 |782459628000000000000000000  |true   |true |\n",
      "|7227473     |oraivaloper1n4xkr4k4rpynp020e8xfqwm2e95g7rzx7w6kgl|false |BOND_STATUS_BONDED   |1862365986  |3.00000008E16  |1862365986000000000000000000  |458540582000000000000000000  |false  |true |\n",
      "|7227473     |oraivaloper1nedr7579x9dp6s3rrt7n5a5s5qczpnnstanuk5|false |BOND_STATUS_BONDED   |12619000    |4.9999999E16   |12619000000000000000000000    |1000000000000000000000000    |false  |true |\n",
      "|7227473     |oraivaloper14vcw5qk0tdvknpa38wz46js5g7vrvut8ku5kaa|false |BOND_STATUS_BONDED   |28559914316 |9.9999998E17   |28562770568622807000000000000 |1009988000000000000000000    |false  |true |\n",
      "|7227473     |oraivaloper14nz2pqskfv9kcez8u0a9gnnsgwjerzqxpmne0y|false |BOND_STATUS_BONDED   |50312413960 |3.00000008E16  |50317444963582710000000000000 |1062053297804422000000000000 |false  |true |\n",
      "|7227473     |oraivaloper1kh9vejqxqqccavtv2nf683mx0z85mfpd7q566q|false |BOND_STATUS_BONDED   |1169582016  |4.9999999E16   |1169582016000000000000000000  |815957086000000000000000000  |false  |true |\n",
      "|7227473     |oraivaloper1h9gg3xavqdau6uy3r36vn4juvzsg0lqvszgtvc|false |BOND_STATUS_BONDED   |62353465206 |3.00000008E16  |62353465206000000000000000000 |164032612000000000000000000  |false  |true |\n",
      "|7227473     |oraivaloper1h89umsrsstyeuet8kllwvf2tp630n77aymck78|false |BOND_STATUS_BONDED   |18026077336 |4.9999999E16   |18026077336000000000000000000 |9001884940000000000000000000 |false  |true |\n",
      "|7227473     |oraivaloper1cp0jml5fxkdvmajcwvkue9d0sym6s0vqly88hg|false |BOND_STATUS_BONDED   |68334143090 |3.00000008E16  |68334143090000000000000000000 |6432280000000000000000000000 |false  |true |\n",
      "|7227473     |oraivaloper1ch3ewye24zm094ygmxu5e4z7d0xre3vhthctpn|false |BOND_STATUS_BONDED   |463487646   |4.9999999E16   |463487646000000000000000000   |25290000000000000000000000   |false  |true |\n",
      "|7227473     |oraivaloper16spaytw7nhdrv9lar0quwj6eex8cw9pvmtynxd|false |BOND_STATUS_BONDED   |81887424    |4.9999999E16   |81887424000000000000000000    |1000741000000000000000000    |false  |true |\n",
      "|7227473     |oraivaloper16e6cpk6ycddk6208fpaya7tmmardhvr7h40yqy|false |BOND_STATUS_BONDED   |3166740599  |7.0E16         |3167057260798516000000000000  |1000099996678133000000000000 |false  |true |\n",
      "|7227473     |oraivaloper1mrv57zj3dpfyc9yd5xptnz2tqfez9fss4c9r85|false |BOND_STATUS_BONDED   |1963186900  |3.00000008E16  |1963186900000000000000000000  |85170000000000000000000000   |false  |true |\n",
      "|7227473     |oraivaloper1mxqeldsxg60t2y6gngpdm5jf3k96dnju5el96f|false |BOND_STATUS_BONDED   |13217561439 |9.9999998E16   |13217561439000000000000000000 |10002002000000000000000000000|false  |true |\n",
      "|7227473     |oraivaloper1m2d5uhr65p9vvlw2w29kajud5q529a76v22wyu|false |BOND_STATUS_BONDED   |54392347132 |3.00000008E16  |54392347132000000000000000000 |60485733000000000000000000   |false  |true |\n",
      "|7227473     |oraivaloper1u2344d8jwtsx5as7u5jw7vel28puh34q7d3y64|false |BOND_STATUS_BONDED   |26463413084 |3.00000008E16  |26463413084000000000000000000 |3251000000000000000000000000 |false  |true |\n",
      "|7227473     |oraivaloper1uhcwtfntsvk8gpwfxltesyl4e28aalmq9v9z0x|false |BOND_STATUS_BONDED   |157739605132|3.00000008E16  |157739605132000000000000000000|6028580000000000000000000000 |false  |true |\n",
      "|7227473     |oraivaloper1ucx0gm8kca2zvyr9d39z249j62y2t8r0rwtmr6|false |BOND_STATUS_BONDED   |3885444551  |3.00000008E16  |3885444551000000000000000000  |6070000000000000000000000    |false  |true |\n",
      "|7227473     |oraivaloper1asz5wl5c2xt8y5kyp9r04v54zh77pq90qar7e8|false |BOND_STATUS_BONDED   |177896626   |4.9999999E16   |177896626000000000000000000   |2000000000000000000000000    |false  |true |\n",
      "|7227473     |oraivaloper17zr98cwzfqdwh69r8v5nrktsalmgs5sa83gpd9|false |BOND_STATUS_BONDED   |1683320339  |3.00000008E16  |1683487214506087300000000000  |150014870515705510000000000  |false  |true |\n",
      "|7227473     |oraivaloper10n3fs6fkl4fp9dcsdfl2vl3ay7pk7snntfg7da|true  |BOND_STATUS_UNBONDING|45696429    |4.9999999E16   |45700934916326180000000000    |1000000000000000000000000    |false  |false|\n",
      "|7227623     |oraivaloper10z9f6539v0ge78xlm4yh7tddrvw445s6d7s2xq|true  |BOND_STATUS_UNBONDING|39289300    |3.00000008E16  |39289300000000000000000000    |0                            |false  |false|\n",
      "|7227623     |oraivaloper1qv5jn7tueeqw7xqdn5rem7s09n7zletreera88|false |BOND_STATUS_BONDED   |10040155819 |3.00000008E16  |10040155819000000000000000000 |200000000000000000000000000  |false  |true |\n",
      "|7227623     |oraivaloper1zwxeq68hunufljymhy0f0x7r2vvh9mu2hh8nt8|false |BOND_STATUS_BONDED   |515584795   |3.00000008E16  |515584795000000000000000000   |119795626000000000000000000  |false  |true |\n",
      "|7227623     |oraivaloper1rqq57xt5r5pnuguffcrltnvkul7n0jdxxdgey0|false |BOND_STATUS_BONDED   |10195348794 |9.9999998E16   |10195348794000000000000000000 |2002000000000000000000000    |false  |true |\n",
      "|7227623     |oraivaloper1yc9nysml8dxy447hp3aytr0nssr9pd9a47l7gx|false |BOND_STATUS_BONDED   |11622747418 |4.9999999E16   |11623872007835572000000000000 |223014944358695600000000000  |false  |true |\n",
      "|7227623     |oraivaloper1yujklf8xlcngsdylgqj352pj9x3yvrrwf3spc8|false |BOND_STATUS_BONDED   |1009132000  |3.00000008E16  |1009132000000000000000000000  |2000000000000000000000000    |false  |true |\n",
      "|7227623     |oraivaloper1xsptthm2ylfw0salut97ldfan2jt032nye7s00|false |BOND_STATUS_BONDED   |16801000    |4.9999999E16   |16801000000000000000000000    |2200000000000000000000000    |false  |false|\n",
      "|7227623     |oraivaloper1xesqr8vjvy34jhu027zd70ypl0nnev5euy9nyl|false |BOND_STATUS_BONDED   |114845194279|3.00000008E16  |114845194279000000000000000000|6378650000000000000000000000 |false  |true |\n",
      "|7227623     |oraivaloper18tf4uwrkcd4qk87jz3n0ruhsdzeg3fmdsdaw04|false |BOND_STATUS_BONDED   |840168052   |1.00000003E16  |840168052000000000000000000   |2000000000000000000000000    |false  |true |\n",
      "|7227623     |oraivaloper1f6q9wjn8qp3ll8y8ztd8290vtec2yxyxxygyy2|false |BOND_STATUS_BONDED   |75614820675 |3.00000008E16  |75614820675000000000000000000 |309500000000000000000000000  |false  |true |\n",
      "|7227623     |oraivaloper12ru3276mkzuuay6vhmg3t6z9hpvrsnplm2994n|false |BOND_STATUS_BONDED   |44900793214 |3.00000008E16  |44900793214000000000000000000 |972508660000000000000000000  |true   |true |\n",
      "|7227623     |oraivaloper1v26tdegnk79edw7xkk2xh8qn89vy6qej6yhsev|false |BOND_STATUS_BONDED   |3466030072  |3.00000008E16  |3466376696074826000000000000  |80649789843405000000000000   |false  |true |\n",
      "|7227623     |oraivaloper1d2ths86a84rxpp7s9j64qgrypntw2pn7lndfgs|false |BOND_STATUS_BONDED   |4626965661  |3.00000008E16  |4626965661000000000000000000  |1000000000000000000000000    |false  |true |\n",
      "|7227623     |oraivaloper1djm07np8dzyg4et3d7dqtr3692l80nggvl0edh|false |BOND_STATUS_BONDED   |2416556993  |3.00000008E16  |2416556993000000000000000000  |5740000000000000000000000    |false  |true |\n",
      "|7227623     |oraivaloper1w96q7rrd6edc3fpmw6zayzdf5ajzucrnw3pt3s|false |BOND_STATUS_BONDED   |4477687259  |4.9999999E16   |4477687259000000000000000000  |1000000000000000000000000    |false  |true |\n",
      "|7227623     |oraivaloper109vcny07r3waj9sld4ejasjyal0rudskeax7uc|false |BOND_STATUS_BONDED   |15444691312 |3.00000008E16  |15444691312000000000000000000 |500380000000000000000000000  |false  |true |\n",
      "|7227623     |oraivaloper102rpf06zhyrfps4qzvehqjtr7rh52us5z2959t|false |BOND_STATUS_BONDED   |123859146   |3.00000008E16  |123859146000000000000000000   |2000000000000000000000000    |false  |true |\n",
      "|7227623     |oraivaloper130jsl66rgss6eq7qur02yfr6tzppdvxglz7n7g|false |BOND_STATUS_BONDED   |2147204747  |9.9999998E16   |2147848897570233000000000000  |1500834517219199700000000000 |false  |true |\n",
      "|7227623     |oraivaloper13ckyvg0ah9vuujtd49yner2ky92lej6nwjvrjv|false |BOND_STATUS_BONDED   |47325408623 |3.00000008E16  |47325408623000000000000000000 |782459628000000000000000000  |false  |true |\n",
      "|7227623     |oraivaloper1n4xkr4k4rpynp020e8xfqwm2e95g7rzx7w6kgl|false |BOND_STATUS_BONDED   |1862365986  |3.00000008E16  |1862365986000000000000000000  |458540582000000000000000000  |false  |true |\n",
      "|7227623     |oraivaloper1nedr7579x9dp6s3rrt7n5a5s5qczpnnstanuk5|false |BOND_STATUS_BONDED   |12619000    |4.9999999E16   |12619000000000000000000000    |1000000000000000000000000    |false  |true |\n",
      "|7227623     |oraivaloper14vcw5qk0tdvknpa38wz46js5g7vrvut8ku5kaa|false |BOND_STATUS_BONDED   |28559914316 |9.9999998E17   |28562770568622807000000000000 |1009988000000000000000000    |false  |true |\n",
      "|7227623     |oraivaloper14nz2pqskfv9kcez8u0a9gnnsgwjerzqxpmne0y|false |BOND_STATUS_BONDED   |50312413960 |3.00000008E16  |50317444963582710000000000000 |1062053297804422000000000000 |false  |true |\n",
      "|7227623     |oraivaloper1kh9vejqxqqccavtv2nf683mx0z85mfpd7q566q|false |BOND_STATUS_BONDED   |1169582016  |4.9999999E16   |1169582016000000000000000000  |815957086000000000000000000  |false  |true |\n",
      "|7227623     |oraivaloper1h9gg3xavqdau6uy3r36vn4juvzsg0lqvszgtvc|false |BOND_STATUS_BONDED   |62353465206 |3.00000008E16  |62353465206000000000000000000 |164032612000000000000000000  |false  |true |\n",
      "|7227623     |oraivaloper1h89umsrsstyeuet8kllwvf2tp630n77aymck78|false |BOND_STATUS_BONDED   |18026117336 |4.9999999E16   |18026117336000000000000000000 |9001884940000000000000000000 |false  |true |\n",
      "|7227623     |oraivaloper1cp0jml5fxkdvmajcwvkue9d0sym6s0vqly88hg|false |BOND_STATUS_BONDED   |68334143090 |3.00000008E16  |68334143090000000000000000000 |6432280000000000000000000000 |false  |true |\n",
      "|7227623     |oraivaloper1ch3ewye24zm094ygmxu5e4z7d0xre3vhthctpn|false |BOND_STATUS_BONDED   |463487646   |4.9999999E16   |463487646000000000000000000   |25290000000000000000000000   |false  |true |\n",
      "|7227623     |oraivaloper16spaytw7nhdrv9lar0quwj6eex8cw9pvmtynxd|false |BOND_STATUS_BONDED   |81887424    |4.9999999E16   |81887424000000000000000000    |1000741000000000000000000    |false  |true |\n",
      "|7227623     |oraivaloper16e6cpk6ycddk6208fpaya7tmmardhvr7h40yqy|false |BOND_STATUS_BONDED   |3166740599  |7.0E16         |3167057260798516000000000000  |1000099996678133000000000000 |false  |true |\n",
      "|7227623     |oraivaloper1mrv57zj3dpfyc9yd5xptnz2tqfez9fss4c9r85|false |BOND_STATUS_BONDED   |1963186900  |3.00000008E16  |1963186900000000000000000000  |85170000000000000000000000   |false  |true |\n",
      "|7227623     |oraivaloper1mxqeldsxg60t2y6gngpdm5jf3k96dnju5el96f|false |BOND_STATUS_BONDED   |13217561439 |9.9999998E16   |13217561439000000000000000000 |10002002000000000000000000000|false  |true |\n",
      "|7227623     |oraivaloper1m2d5uhr65p9vvlw2w29kajud5q529a76v22wyu|false |BOND_STATUS_BONDED   |54392347132 |3.00000008E16  |54392347132000000000000000000 |60485733000000000000000000   |false  |true |\n",
      "|7227623     |oraivaloper1u2344d8jwtsx5as7u5jw7vel28puh34q7d3y64|false |BOND_STATUS_BONDED   |26463413084 |3.00000008E16  |26463413084000000000000000000 |3251000000000000000000000000 |false  |true |\n",
      "|7227623     |oraivaloper1uhcwtfntsvk8gpwfxltesyl4e28aalmq9v9z0x|false |BOND_STATUS_BONDED   |157739605132|3.00000008E16  |157739605132000000000000000000|6028580000000000000000000000 |false  |true |\n",
      "|7227623     |oraivaloper1ucx0gm8kca2zvyr9d39z249j62y2t8r0rwtmr6|false |BOND_STATUS_BONDED   |3885444551  |3.00000008E16  |3885444551000000000000000000  |6070000000000000000000000    |false  |true |\n",
      "|7227623     |oraivaloper1asz5wl5c2xt8y5kyp9r04v54zh77pq90qar7e8|false |BOND_STATUS_BONDED   |177896626   |4.9999999E16   |177896626000000000000000000   |2000000000000000000000000    |false  |true |\n",
      "|7227623     |oraivaloper17zr98cwzfqdwh69r8v5nrktsalmgs5sa83gpd9|false |BOND_STATUS_BONDED   |1683320339  |3.00000008E16  |1683487214506087300000000000  |150014870515705510000000000  |false  |true |\n",
      "|7227623     |oraivaloper10n3fs6fkl4fp9dcsdfl2vl3ay7pk7snntfg7da|true  |BOND_STATUS_UNBONDING|45696429    |4.9999999E16   |45700934916326180000000000    |1000000000000000000000000    |false  |false|\n",
      "+------------+--------------------------------------------------+------+---------------------+------------+---------------+------------------------------+-----------------------------+-------+-----+\n",
      "\n"
     ]
    }
   ],
   "source": [
    "df2.show(156, truncate=False)"
   ]
  },
  {
   "cell_type": "code",
   "execution_count": null,
   "metadata": {},
   "outputs": [],
   "source": []
  }
 ],
 "metadata": {
  "kernelspec": {
   "display_name": "py38",
   "language": "python",
   "name": "python3"
  },
  "language_info": {
   "codemirror_mode": {
    "name": "ipython",
    "version": 3
   },
   "file_extension": ".py",
   "mimetype": "text/x-python",
   "name": "python",
   "nbconvert_exporter": "python",
   "pygments_lexer": "ipython3",
   "version": "3.8.10"
  },
  "orig_nbformat": 4,
  "vscode": {
   "interpreter": {
    "hash": "953727d1e95b678a3946b8bfc3d5a175ea50e205ad779370d1fb67fabbb85d7d"
   }
  }
 },
 "nbformat": 4,
 "nbformat_minor": 2
}
