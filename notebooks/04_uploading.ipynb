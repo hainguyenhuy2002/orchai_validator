{
 "cells": [
  {
   "cell_type": "code",
   "execution_count": 1,
   "metadata": {},
   "outputs": [
    {
     "name": "stdout",
     "output_type": "stream",
     "text": [
      "d:\\Blockchain\\data\\orai\\orchai_validator\n"
     ]
    }
   ],
   "source": [
    "%cd ..\n",
    "import os, sys\n",
    "sys.path.append(os.path.join(os.getcwd(), \"src\"))"
   ]
  },
  {
   "cell_type": "code",
   "execution_count": 2,
   "metadata": {},
   "outputs": [],
   "source": [
    "from orchai.upload import run_uploading, get_batches"
   ]
  },
  {
   "cell_type": "code",
   "execution_count": 3,
   "metadata": {},
   "outputs": [
    {
     "name": "stdout",
     "output_type": "stream",
     "text": [
      "| Intervals:\n",
      "0 - 7059473 -> 7071323 : 80.0\n",
      "1 - 7069823 -> 7076123 : 43.0\n",
      "| Start\n",
      "0 - 7059473 -> 7071323 : 80.0\n",
      "Successfully query data from database\n",
      "------------------------------------------------\n",
      "Successfully converted voting_power_score column\n",
      "------------------------------------------------\n",
      "Successfully converted commission_score column\n",
      "------------------------------------------------\n",
      "Successfully converted self_bonded_score column\n",
      "------------------------------------------------\n",
      "Successfully converted vote_propose_score column\n",
      "------------------------------------------------\n",
      "Sucessfully converted final_score\n",
      "------------------------------------------------\n",
      "Sucessfully shifting data\n",
      "------------------------------------------------\n",
      "Start validating:\n",
      "start-end final blocks: 7059923 7070123\n",
      "uploading data ...\n",
      "Duration: 16.71966814994812\n",
      "1 - 7069823 -> 7076123 : 43.0\n",
      "Successfully query data from database\n",
      "------------------------------------------------\n",
      "Successfully converted voting_power_score column\n",
      "------------------------------------------------\n",
      "Successfully converted commission_score column\n",
      "------------------------------------------------\n",
      "Successfully converted self_bonded_score column\n",
      "------------------------------------------------\n",
      "Successfully converted vote_propose_score column\n",
      "------------------------------------------------\n",
      "Sucessfully converted final_score\n",
      "------------------------------------------------\n",
      "Sucessfully shifting data\n",
      "------------------------------------------------\n",
      "Start validating:\n",
      "start-end final blocks: 7070273 7074923\n",
      "uploading data ...\n",
      "Duration: 4.766009092330933\n"
     ]
    }
   ],
   "source": [
    "from omegaconf import OmegaConf\n",
    "\n",
    "config = OmegaConf.load(\"config/local_file.yaml\")\n",
    "run_uploading(config, start_block=7059473, end_block=7059473 + 150 * 111)"
   ]
  },
  {
   "cell_type": "code",
   "execution_count": null,
   "metadata": {},
   "outputs": [],
   "source": []
  }
 ],
 "metadata": {
  "kernelspec": {
   "display_name": "py38",
   "language": "python",
   "name": "python3"
  },
  "language_info": {
   "codemirror_mode": {
    "name": "ipython",
    "version": 3
   },
   "file_extension": ".py",
   "mimetype": "text/x-python",
   "name": "python",
   "nbconvert_exporter": "python",
   "pygments_lexer": "ipython3",
   "version": "3.8.10"
  },
  "orig_nbformat": 4,
  "vscode": {
   "interpreter": {
    "hash": "953727d1e95b678a3946b8bfc3d5a175ea50e205ad779370d1fb67fabbb85d7d"
   }
  }
 },
 "nbformat": 4,
 "nbformat_minor": 2
}
