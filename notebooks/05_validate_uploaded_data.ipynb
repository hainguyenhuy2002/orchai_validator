{
 "cells": [
  {
   "attachments": {},
   "cell_type": "markdown",
   "metadata": {},
   "source": [
    "## Setup"
   ]
  },
  {
   "cell_type": "code",
   "execution_count": 1,
   "metadata": {},
   "outputs": [
    {
     "name": "stdout",
     "output_type": "stream",
     "text": [
      "d:\\Blockchain\\data\\orai\\orchai_validator\n"
     ]
    }
   ],
   "source": [
    "%cd .."
   ]
  },
  {
   "cell_type": "code",
   "execution_count": 2,
   "metadata": {},
   "outputs": [],
   "source": [
    "from omegaconf import OmegaConf\n",
    "from labeling.tools import psql_connect\n",
    "import numpy as np\n",
    "from labeling.upload import get_batch_intervals"
   ]
  },
  {
   "cell_type": "code",
   "execution_count": 3,
   "metadata": {},
   "outputs": [],
   "source": [
    "config = OmegaConf.load(\"config/etl.yaml\")\n",
    "cur = psql_connect(**config.dest).cursor()\n",
    "\n",
    "vote_proposed_win_size = config.hp.etl.vote_proposed_win_size\n",
    "combine_win_size = config.hp.etl.combine_win_size\n",
    "label_win_size = config.hp.etl.label_win_size\n",
    "batch_size = config.hp.upload.batch_size\n",
    "\n",
    "def num_labeled_blocks(batch_size):\n",
    "    return (batch_size - vote_proposed_win_size + 1) / combine_win_size - (label_win_size / combine_win_size)"
   ]
  },
  {
   "attachments": {},
   "cell_type": "markdown",
   "metadata": {},
   "source": [
    "## Validate"
   ]
  },
  {
   "attachments": {},
   "cell_type": "markdown",
   "metadata": {},
   "source": [
    "### Detect wrong block difference"
   ]
  },
  {
   "cell_type": "code",
   "execution_count": 4,
   "metadata": {},
   "outputs": [],
   "source": [
    "cur.execute(f\"select distinct block_height from {config.dest.table} order by block_height;\")\n",
    "bh = cur.fetchall()\n",
    "bh = np.array([b[0] for b in bh])"
   ]
  },
  {
   "cell_type": "code",
   "execution_count": 5,
   "metadata": {},
   "outputs": [
    {
     "data": {
      "text/plain": [
       "(11127,)"
      ]
     },
     "execution_count": 5,
     "metadata": {},
     "output_type": "execute_result"
    }
   ],
   "source": [
    "bh.shape"
   ]
  },
  {
   "cell_type": "code",
   "execution_count": 6,
   "metadata": {},
   "outputs": [
    {
     "data": {
      "text/plain": [
       "Counter({150: 11114, 300: 7, 390: 2, 60: 2, 171: 1})"
      ]
     },
     "execution_count": 6,
     "metadata": {},
     "output_type": "execute_result"
    }
   ],
   "source": [
    "from collections import Counter\n",
    "\n",
    "Counter(np.diff(bh))"
   ]
  },
  {
   "attachments": {},
   "cell_type": "markdown",
   "metadata": {},
   "source": [
    "### Detail wrong differences"
   ]
  },
  {
   "cell_type": "code",
   "execution_count": 16,
   "metadata": {},
   "outputs": [
    {
     "name": "stdout",
     "output_type": "stream",
     "text": [
      "7167971 7168271 | 300\n",
      "7202771 7203071 | 300\n",
      "7237571 7237871 | 300\n",
      "7272371 7272671 | 300\n",
      "7272671 7273061 | 390\n",
      "7307411 7307471 | 60\n",
      "7794371 7794671 | 300\n",
      "7829171 7829471 | 300\n",
      "7863971 7864271 | 300\n",
      "7883921 7884311 | 390\n",
      "7899011 7899071 | 60\n",
      "8699921 8700092 | 171\n"
     ]
    }
   ],
   "source": [
    "diff = np.diff(bh)\n",
    "commands = []\n",
    "\n",
    "for i, d in enumerate(diff):\n",
    "    if d != combine_win_size:\n",
    "        if d % combine_win_size == 0:\n",
    "            rs = bh[i] + combine_win_size\n",
    "            re = bh[i + 1] - combine_win_size\n",
    "            cmd = f\"python ./uploader.py -cf ./config/etl.yaml -s {rs} -e {re + combine_win_size + label_win_size - 1}\"\n",
    "            commands.append(cmd)\n",
    "       \n",
    "        print(bh[i], bh[i+1], \"|\", d)\n",
    "        \n",
    "        bs = bh[i] - vote_proposed_win_size + 1 + combine_win_size\n",
    "        be = bh[i+1] + combine_win_size + label_win_size - 1\n",
    "        # print(bs, be, \"|\", d)"
   ]
  },
  {
   "attachments": {},
   "cell_type": "markdown",
   "metadata": {},
   "source": [
    "#### Commands to fill missing"
   ]
  },
  {
   "cell_type": "code",
   "execution_count": 17,
   "metadata": {},
   "outputs": [
    {
     "name": "stdout",
     "output_type": "stream",
     "text": [
      "!python ./uploader.py -cf ./config/etl.yaml -s 7168121 -e 7269070\n",
      "!python ./uploader.py -cf ./config/etl.yaml -s 7202921 -e 7303870\n",
      "!python ./uploader.py -cf ./config/etl.yaml -s 7237721 -e 7338670\n",
      "!python ./uploader.py -cf ./config/etl.yaml -s 7272521 -e 7373470\n",
      "!python ./uploader.py -cf ./config/etl.yaml -s 7794521 -e 7895470\n",
      "!python ./uploader.py -cf ./config/etl.yaml -s 7829321 -e 7930270\n",
      "!python ./uploader.py -cf ./config/etl.yaml -s 7864121 -e 7965070\n"
     ]
    }
   ],
   "source": [
    "for c in commands:\n",
    "    print(f\"!{c}\")"
   ]
  },
  {
   "cell_type": "code",
   "execution_count": 11,
   "metadata": {},
   "outputs": [
    {
     "name": "stdout",
     "output_type": "stream",
     "text": [
      "7153722 7269070 115349\n",
      "1.0\n"
     ]
    }
   ],
   "source": [
    "ts = 7168121 - vote_proposed_win_size + 1\n",
    "te = 7168121 + label_win_size + combine_win_size - 1\n",
    "print(ts, te, te - ts + 1)\n",
    "print(num_labeled_blocks(te - ts + 1))"
   ]
  },
  {
   "attachments": {},
   "cell_type": "markdown",
   "metadata": {},
   "source": [
    "## Generate block intervals"
   ]
  },
  {
   "cell_type": "code",
   "execution_count": 9,
   "metadata": {},
   "outputs": [
    {
     "data": {
      "text/plain": [
       "62"
      ]
     },
     "execution_count": 9,
     "metadata": {},
     "output_type": "execute_result"
    }
   ],
   "source": [
    "intervals = get_batch_intervals(\n",
    "    start_block=7063871,\n",
    "    global_end_block=9291903,\n",
    "    batch_size=batch_size,\n",
    "    vote_proposed_win_size=vote_proposed_win_size,\n",
    "    combine_win_size=combine_win_size,\n",
    "    label_win_size=label_win_size,\n",
    "    min_block=7049472\n",
    ")\n",
    "\n",
    "len(intervals)"
   ]
  },
  {
   "attachments": {},
   "cell_type": "markdown",
   "metadata": {},
   "source": [
    "### Split into batches"
   ]
  },
  {
   "cell_type": "code",
   "execution_count": 27,
   "metadata": {},
   "outputs": [
    {
     "name": "stdout",
     "output_type": "stream",
     "text": [
      "7063871 7269070\n",
      "7168271 7373470\n",
      "7272671 7477870\n",
      "7377071 7582270\n",
      "7481471 7686670\n",
      "7585871 7791070\n",
      "7690271 7895470\n",
      "7794671 7999870\n",
      "7899071 8104270\n",
      "8003471 8208670\n",
      "8107871 8313070\n",
      "8212271 8417470\n",
      "8316671 8521870\n",
      "8421071 8626270\n",
      "8525471 8730670\n",
      "8629871 8835070\n",
      "8734271 8939470\n",
      "8838671 9043870\n",
      "8943071 9148270\n",
      "9047471 9252670\n"
     ]
    }
   ],
   "source": [
    "b_size = 3\n",
    "start = None\n",
    "\n",
    "for idx, (bs, be) in enumerate(intervals):\n",
    "    if start is None:\n",
    "        start = bs\n",
    "    if (idx + 1) % b_size == 0:\n",
    "        print(start + vote_proposed_win_size - 1, be)\n",
    "        start = None"
   ]
  },
  {
   "attachments": {},
   "cell_type": "markdown",
   "metadata": {},
   "source": [
    "### Post-test"
   ]
  },
  {
   "cell_type": "code",
   "execution_count": 36,
   "metadata": {},
   "outputs": [
    {
     "name": "stdout",
     "output_type": "stream",
     "text": [
      "7049472 7199470 149999\n",
      "7084272 7234270 149999\n",
      "7119072 7269070 149999\n"
     ]
    }
   ],
   "source": [
    "blocks = []\n",
    "\n",
    "for bs, be in get_batch_intervals(\n",
    "    start_block=7063871,\n",
    "    global_end_block=7269070,\n",
    "    batch_size=batch_size,\n",
    "    vote_proposed_win_size=vote_proposed_win_size,\n",
    "    combine_win_size=combine_win_size,\n",
    "    label_win_size=label_win_size,\n",
    "    min_block=7049472\n",
    "):\n",
    "    print(bs, be, be - bs + 1)\n",
    "    blocks += list(range(bs + vote_proposed_win_size - 1, be - label_win_size - combine_win_size + 1 + 1, combine_win_size))"
   ]
  },
  {
   "cell_type": "code",
   "execution_count": 38,
   "metadata": {},
   "outputs": [
    {
     "data": {
      "text/plain": [
       "3.0"
      ]
     },
     "execution_count": 38,
     "metadata": {},
     "output_type": "execute_result"
    }
   ],
   "source": [
    "len(blocks) / 232"
   ]
  },
  {
   "cell_type": "code",
   "execution_count": 39,
   "metadata": {},
   "outputs": [
    {
     "data": {
      "text/plain": [
       "Counter({150: 695})"
      ]
     },
     "execution_count": 39,
     "metadata": {},
     "output_type": "execute_result"
    }
   ],
   "source": [
    "blocks = np.array(blocks)\n",
    "Counter(np.diff(blocks))"
   ]
  },
  {
   "attachments": {},
   "cell_type": "markdown",
   "metadata": {},
   "source": [
    "## Missing block:\n",
    "```\n",
    "7272731 7272972 | 241\n",
    "7883969 7884210 | 241\n",
    "8699979 8700001 | 22\n",
    "9057005 9057016 | 11\n",
    "9057065 9057076 | 11\n",
    "```"
   ]
  },
  {
   "attachments": {},
   "cell_type": "markdown",
   "metadata": {},
   "source": [
    "## Total block"
   ]
  },
  {
   "cell_type": "code",
   "execution_count": 5,
   "metadata": {},
   "outputs": [
    {
     "name": "stdout",
     "output_type": "stream",
     "text": [
      "[(9291903,)]\n"
     ]
    }
   ],
   "source": [
    "cur.execute(f\"select max(block_height) from public.validator_block;\")\n",
    "print(cur.fetchall())"
   ]
  },
  {
   "cell_type": "code",
   "execution_count": 19,
   "metadata": {},
   "outputs": [
    {
     "name": "stdout",
     "output_type": "stream",
     "text": [
      "total blocks: 14181.546666666667\n"
     ]
    }
   ],
   "source": [
    "print(\"total blocks:\", ((9291903 - label_win_size - combine_win_size) - (7049472 + vote_proposed_win_size - 1)) / 150 + 1)"
   ]
  },
  {
   "cell_type": "code",
   "execution_count": 20,
   "metadata": {},
   "outputs": [
    {
     "data": {
      "text/plain": [
       "553059"
      ]
     },
     "execution_count": 20,
     "metadata": {},
     "output_type": "execute_result"
    }
   ],
   "source": [
    "14181 * 39"
   ]
  },
  {
   "cell_type": "code",
   "execution_count": null,
   "metadata": {},
   "outputs": [],
   "source": []
  }
 ],
 "metadata": {
  "kernelspec": {
   "display_name": "py38",
   "language": "python",
   "name": "python3"
  },
  "language_info": {
   "codemirror_mode": {
    "name": "ipython",
    "version": 3
   },
   "file_extension": ".py",
   "mimetype": "text/x-python",
   "name": "python",
   "nbconvert_exporter": "python",
   "pygments_lexer": "ipython3",
   "version": "3.8.10"
  },
  "orig_nbformat": 4,
  "vscode": {
   "interpreter": {
    "hash": "953727d1e95b678a3946b8bfc3d5a175ea50e205ad779370d1fb67fabbb85d7d"
   }
  }
 },
 "nbformat": 4,
 "nbformat_minor": 2
}
