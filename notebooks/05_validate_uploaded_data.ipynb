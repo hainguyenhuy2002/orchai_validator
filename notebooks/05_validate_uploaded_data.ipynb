{
 "cells": [
  {
   "cell_type": "code",
   "execution_count": 1,
   "metadata": {},
   "outputs": [
    {
     "name": "stdout",
     "output_type": "stream",
     "text": [
      "d:\\Blockchain\\data\\orai\\orchai_validator\n"
     ]
    }
   ],
   "source": [
    "%cd .."
   ]
  },
  {
   "cell_type": "code",
   "execution_count": 2,
   "metadata": {},
   "outputs": [],
   "source": [
    "from omegaconf import OmegaConf\n",
    "from labeling.tools import psql_connect\n",
    "import numpy as np"
   ]
  },
  {
   "cell_type": "code",
   "execution_count": 3,
   "metadata": {},
   "outputs": [],
   "source": [
    "config = OmegaConf.load(\"config/etl.yaml\")\n",
    "cur = psql_connect(**config.dest).cursor()"
   ]
  },
  {
   "attachments": {},
   "cell_type": "markdown",
   "metadata": {},
   "source": [
    "## Validate"
   ]
  },
  {
   "cell_type": "code",
   "execution_count": 4,
   "metadata": {},
   "outputs": [],
   "source": [
    "cur.execute(f\"select distinct block_height from {config.dest.table} order by block_height;\")\n",
    "bh = cur.fetchall()\n",
    "bh = np.array([b[0] for b in bh])"
   ]
  },
  {
   "cell_type": "code",
   "execution_count": null,
   "metadata": {},
   "outputs": [],
   "source": [
    "bh.shape"
   ]
  },
  {
   "cell_type": "code",
   "execution_count": null,
   "metadata": {},
   "outputs": [],
   "source": [
    "diff = np.diff(bh)\n",
    "diff.sort()\n",
    "\n",
    "from collections import Counter\n",
    "\n",
    "c = Counter(diff)\n",
    "c"
   ]
  },
  {
   "attachments": {},
   "cell_type": "markdown",
   "metadata": {},
   "source": [
    "## Block intervals"
   ]
  },
  {
   "cell_type": "code",
   "execution_count": 18,
   "metadata": {},
   "outputs": [
    {
     "data": {
      "text/plain": [
       "62"
      ]
     },
     "execution_count": 18,
     "metadata": {},
     "output_type": "execute_result"
    }
   ],
   "source": [
    "from labeling.upload import get_batch_intervals\n",
    "\n",
    "vote_proposed_win_size = config.hp.etl.vote_proposed_win_size\n",
    "combine_win_size = config.hp.etl.combine_win_size\n",
    "label_win_size = config.hp.etl.label_win_size\n",
    "batch_size = config.hp.upload.batch_size\n",
    "intervals = get_batch_intervals(\n",
    "    start_block=7063871,\n",
    "    global_end_block=9291903,\n",
    "    batch_size=batch_size,\n",
    "    vote_proposed_win_size=vote_proposed_win_size,\n",
    "    combine_win_size=combine_win_size,\n",
    "    label_win_size=label_win_size,\n",
    "    min_block=7049472\n",
    ")\n",
    "\n",
    "len(intervals)\n"
   ]
  },
  {
   "cell_type": "code",
   "execution_count": 20,
   "metadata": {},
   "outputs": [
    {
     "name": "stdout",
     "output_type": "stream",
     "text": [
      "7049472 7269070\n",
      "7153872 7373470\n",
      "7258272 7477870\n",
      "7362672 7582270\n",
      "7467072 7686670\n",
      "7571472 7791070\n",
      "7675872 7895470\n",
      "7780272 7999870\n",
      "7884672 8104270\n",
      "7989072 8208670\n",
      "8093472 8313070\n",
      "8197872 8417470\n",
      "8302272 8521870\n",
      "8406672 8626270\n",
      "8511072 8730670\n",
      "8615472 8835070\n",
      "8719872 8939470\n",
      "8824272 9043870\n",
      "8928672 9148270\n",
      "9033072 9252670\n"
     ]
    }
   ],
   "source": [
    "b_size = 3\n",
    "start = None\n",
    "\n",
    "for idx, (bs, be) in enumerate(intervals):\n",
    "    if start is None:\n",
    "        start = bs\n",
    "    if (idx + 1) % b_size == 0:\n",
    "        print(start, be)\n",
    "        start = None"
   ]
  },
  {
   "cell_type": "code",
   "execution_count": 23,
   "metadata": {},
   "outputs": [
    {
     "name": "stdout",
     "output_type": "stream",
     "text": [
      "7049472 7199470 149999\n",
      "7084272 7234270 149999\n",
      "7119072 7269070 149999\n"
     ]
    }
   ],
   "source": [
    "for bs, be in get_batch_intervals(\n",
    "    start_block=7049472,\n",
    "    global_end_block=7269070,\n",
    "    batch_size=batch_size,\n",
    "    vote_proposed_win_size=vote_proposed_win_size,\n",
    "    combine_win_size=combine_win_size,\n",
    "    label_win_size=label_win_size,\n",
    "    min_block=7049472\n",
    "):\n",
    "    print(bs, be, be - bs + 1)"
   ]
  },
  {
   "cell_type": "code",
   "execution_count": null,
   "metadata": {},
   "outputs": [],
   "source": [
    "for bs, be in get_batch_intervals(\n",
    "    start_block=7049472,\n",
    "    global_end_block=7269070,\n",
    "    batch_size=batch_size,\n",
    "    vote_proposed_win_size=vote_proposed_win_size,\n",
    "    combine_win_size=combine_win_size,\n",
    "    label_win_size=label_win_size,\n",
    "    min_block=7049472\n",
    "):\n",
    "    print(bs, be, be - bs + 1)"
   ]
  },
  {
   "attachments": {},
   "cell_type": "markdown",
   "metadata": {},
   "source": [
    "## Missing block:\n",
    "```\n",
    "7272731 7272972 | 241\n",
    "7883969 7884210 | 241\n",
    "8699979 8700001 | 22\n",
    "9057005 9057016 | 11\n",
    "9057065 9057076 | 11\n",
    "```"
   ]
  },
  {
   "cell_type": "code",
   "execution_count": null,
   "metadata": {},
   "outputs": [],
   "source": [
    "diff = np.diff(bh)\n",
    "combine_win_size = config.hp.etl.combine_win_size\n",
    "\n",
    "for i, d in enumerate(diff):\n",
    "    if d != combine_win_size:\n",
    "        print(bh[i], bh[i+1], \"|\", d)"
   ]
  },
  {
   "attachments": {},
   "cell_type": "markdown",
   "metadata": {},
   "source": [
    "## Total block"
   ]
  },
  {
   "cell_type": "code",
   "execution_count": 5,
   "metadata": {},
   "outputs": [
    {
     "name": "stdout",
     "output_type": "stream",
     "text": [
      "[(9291903,)]\n"
     ]
    }
   ],
   "source": [
    "cur.execute(f\"select max(block_height) from public.validator_block;\")\n",
    "print(cur.fetchall())"
   ]
  },
  {
   "cell_type": "code",
   "execution_count": 9,
   "metadata": {},
   "outputs": [
    {
     "data": {
      "text/plain": [
       "{'accept_rate': 0.1, 'concentration_level': 0.9, 'vote_score': 2, 'propose_score': 6, 'A': 9, 'B': 4, 'C': 2, 'D': 4, 'vote_proposed_win_size': 14400, 'combine_win_size': 150, 'label_win_size': 100800}"
      ]
     },
     "execution_count": 9,
     "metadata": {},
     "output_type": "execute_result"
    }
   ],
   "source": [
    "config.hp.etl"
   ]
  },
  {
   "cell_type": "code",
   "execution_count": 10,
   "metadata": {},
   "outputs": [
    {
     "name": "stdout",
     "output_type": "stream",
     "text": [
      "total blocks: 12706.88\n"
     ]
    }
   ],
   "source": [
    "print(\"total blocks:\", ((9070703 - 100800 - 150) - (7049472 + 14400 - 1)) / 150 + 1)"
   ]
  },
  {
   "cell_type": "code",
   "execution_count": null,
   "metadata": {},
   "outputs": [],
   "source": []
  }
 ],
 "metadata": {
  "kernelspec": {
   "display_name": "py38",
   "language": "python",
   "name": "python3"
  },
  "language_info": {
   "codemirror_mode": {
    "name": "ipython",
    "version": 3
   },
   "file_extension": ".py",
   "mimetype": "text/x-python",
   "name": "python",
   "nbconvert_exporter": "python",
   "pygments_lexer": "ipython3",
   "version": "3.8.10"
  },
  "orig_nbformat": 4,
  "vscode": {
   "interpreter": {
    "hash": "953727d1e95b678a3946b8bfc3d5a175ea50e205ad779370d1fb67fabbb85d7d"
   }
  }
 },
 "nbformat": 4,
 "nbformat_minor": 2
}
