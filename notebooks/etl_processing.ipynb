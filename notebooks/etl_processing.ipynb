{
 "cells": [
  {
   "cell_type": "code",
   "execution_count": 1,
   "metadata": {},
   "outputs": [
    {
     "name": "stdout",
     "output_type": "stream",
     "text": [
      "d:\\Blockchain\\data\\orai\\orchai_validator\n"
     ]
    }
   ],
   "source": [
    "%cd .."
   ]
  },
  {
   "cell_type": "code",
   "execution_count": 2,
   "metadata": {},
   "outputs": [],
   "source": [
    "from labeling.upload import ETLProcessor, get_spark, get_batch_intervals, sampling\n",
    "from omegaconf import OmegaConf"
   ]
  },
  {
   "cell_type": "code",
   "execution_count": 3,
   "metadata": {},
   "outputs": [],
   "source": [
    "config = OmegaConf.load(\"config/etl.yaml\")"
   ]
  },
  {
   "cell_type": "code",
   "execution_count": 4,
   "metadata": {},
   "outputs": [],
   "source": [
    "spark = get_spark()"
   ]
  },
  {
   "cell_type": "code",
   "execution_count": 6,
   "metadata": {},
   "outputs": [
    {
     "name": "stdout",
     "output_type": "stream",
     "text": [
      "7049472 7199470\n",
      "7084272 7234270\n",
      "7119072 7269070\n",
      "7153872 7303870\n"
     ]
    }
   ],
   "source": [
    "from labeling.upload import get_batch_intervals\n",
    "\n",
    "vote_proposed_win_size = config.hp.etl.vote_proposed_win_size\n",
    "combine_win_size = config.hp.etl.combine_win_size\n",
    "label_win_size = config.hp.etl.label_win_size\n",
    "batch_size = config.hp.upload.batch_size\n",
    "\n",
    "for bs, be in get_batch_intervals(\n",
    "    start_block=7063871,\n",
    "    global_end_block=7303870,\n",
    "    batch_size=batch_size,\n",
    "    vote_proposed_win_size=vote_proposed_win_size,\n",
    "    combine_win_size=combine_win_size,\n",
    "    label_win_size=label_win_size,\n",
    "    min_block=7049472\n",
    "):\n",
    "    print(bs, be)"
   ]
  },
  {
   "cell_type": "code",
   "execution_count": 5,
   "metadata": {},
   "outputs": [
    {
     "name": "stdout",
     "output_type": "stream",
     "text": [
      "Successfully queried data from database\n"
     ]
    }
   ],
   "source": [
    "df = sampling(spark, config, 7049472, 7199470)"
   ]
  },
  {
   "cell_type": "code",
   "execution_count": 9,
   "metadata": {},
   "outputs": [
    {
     "data": {
      "text/plain": [
       "149999"
      ]
     },
     "execution_count": 9,
     "metadata": {},
     "output_type": "execute_result"
    }
   ],
   "source": [
    "df.groupBy(\"block_height\").count().count()"
   ]
  },
  {
   "cell_type": "code",
   "execution_count": 6,
   "metadata": {},
   "outputs": [
    {
     "name": "stdout",
     "output_type": "stream",
     "text": [
      "------------------------------------------------\n",
      "Successfully converted voting_power_score column\n",
      "------------------------------------------------\n",
      "------------------------------------------------\n",
      "Successfully converted commission_score column\n",
      "------------------------------------------------\n",
      "------------------------------------------------\n",
      "Successfully converted self_bonded_score column\n",
      "------------------------------------------------\n",
      "------------------------------------------------\n",
      "Successfully converted vote_propose_score column\n",
      "------------------------------------------------\n",
      "------------------------------------------------\n",
      "Sucessfully converted final_score\n",
      "------------------------------------------------\n"
     ]
    }
   ],
   "source": [
    "dff = ETLProcessor.data_scoring(df, **config.hp.etl, start_block=7050000, end_block=7080000)"
   ]
  },
  {
   "cell_type": "code",
   "execution_count": null,
   "metadata": {},
   "outputs": [],
   "source": [
    "dff.printSchema()"
   ]
  },
  {
   "cell_type": "code",
   "execution_count": null,
   "metadata": {},
   "outputs": [],
   "source": []
  }
 ],
 "metadata": {
  "kernelspec": {
   "display_name": "py38",
   "language": "python",
   "name": "python3"
  },
  "language_info": {
   "codemirror_mode": {
    "name": "ipython",
    "version": 3
   },
   "file_extension": ".py",
   "mimetype": "text/x-python",
   "name": "python",
   "nbconvert_exporter": "python",
   "pygments_lexer": "ipython3",
   "version": "3.8.10"
  },
  "orig_nbformat": 4,
  "vscode": {
   "interpreter": {
    "hash": "953727d1e95b678a3946b8bfc3d5a175ea50e205ad779370d1fb67fabbb85d7d"
   }
  }
 },
 "nbformat": 4,
 "nbformat_minor": 2
}
