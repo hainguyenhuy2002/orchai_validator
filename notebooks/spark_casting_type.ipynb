{
 "cells": [
  {
   "cell_type": "code",
   "execution_count": 2,
   "metadata": {},
   "outputs": [
    {
     "name": "stdout",
     "output_type": "stream",
     "text": [
      "Successfully queried data from database\n",
      "root\n",
      " |-- block_height: integer (nullable = true)\n",
      " |-- operator_address: string (nullable = true)\n",
      " |-- jailed: boolean (nullable = true)\n",
      " |-- status: string (nullable = true)\n",
      " |-- tokens: decimal(38,0) (nullable = true)\n",
      " |-- commission_rate: float (nullable = true)\n",
      " |-- delegator_shares: decimal(38,0) (nullable = true)\n",
      " |-- self_bonded: decimal(38,0) (nullable = true)\n",
      " |-- propose: boolean (nullable = true)\n",
      " |-- vote: boolean (nullable = true)\n",
      "\n",
      "+------------+--------------------------------------------------+------+------------------+-----------+---------------+-----------------------------+----------------------------+-------+----+\n",
      "|block_height|operator_address                                  |jailed|status            |tokens     |commission_rate|delegator_shares             |self_bonded                 |propose|vote|\n",
      "+------------+--------------------------------------------------+------+------------------+-----------+---------------+-----------------------------+----------------------------+-------+----+\n",
      "|7050663     |oraivaloper1kh9vejqxqqccavtv2nf683mx0z85mfpd7q566q|false |BOND_STATUS_BONDED|1162190016 |4.9999999E16   |1162190016000000000000000000 |815957086000000000000000000 |false  |true|\n",
      "|7050663     |oraivaloper1h9gg3xavqdau6uy3r36vn4juvzsg0lqvszgtvc|false |BOND_STATUS_BONDED|62605108345|3.00000008E16  |62605108345000000000000000000|163532612000000000000000000 |false  |true|\n",
      "|7050663     |oraivaloper1h89umsrsstyeuet8kllwvf2tp630n77aymck78|false |BOND_STATUS_BONDED|17876570993|4.9999999E16   |17876570993000000000000000000|9001884940000000000000000000|false  |true|\n",
      "|7050663     |oraivaloper1cp0jml5fxkdvmajcwvkue9d0sym6s0vqly88hg|false |BOND_STATUS_BONDED|50984303112|3.00000008E16  |50984303112000000000000000000|6336510000000000000000000000|false  |true|\n",
      "|7050663     |oraivaloper1ch3ewye24zm094ygmxu5e4z7d0xre3vhthctpn|false |BOND_STATUS_BONDED|430577646  |4.9999999E16   |430577646000000000000000000  |25290000000000000000000000  |false  |true|\n",
      "+------------+--------------------------------------------------+------+------------------+-----------+---------------+-----------------------------+----------------------------+-------+----+\n",
      "only showing top 5 rows\n",
      "\n"
     ]
    }
   ],
   "source": [
    "import os\n",
    "import sys\n",
    "\n",
    "def import_package(depth: int, is_jupyter: bool):\n",
    "    if is_jupyter is False:\n",
    "        current_dir = os.path.dirname(os.path.abspath(__file__))\n",
    "    else:\n",
    "        current_dir = os.getcwd()\n",
    "\n",
    "    parent_dir = current_dir\n",
    "    while depth > 0:\n",
    "        depth -= 1\n",
    "        parent_dir = os.path.dirname(parent_dir)\n",
    "        \n",
    "    sys.path.insert(0, parent_dir)\n",
    "\n",
    "import_package(1, True)\n",
    "\n",
    "from src.labeling.ETLProcessor import ETLProcessor\n",
    "from src.labeling.utils import get_spark, query\n",
    "from omegaconf import OmegaConf\n",
    "\n",
    "config = OmegaConf.load(\"../config_small.yml\")\n",
    "spark = get_spark('../lib/postgresql-42.5.0.jar')\n",
    "\n",
    "df = query(spark, **config.db)\n",
    "df.printSchema()\n",
    "\n",
    "df.show(5, truncate=False)"
   ]
  },
  {
   "cell_type": "code",
   "execution_count": null,
   "metadata": {},
   "outputs": [],
   "source": []
  }
 ],
 "metadata": {
  "kernelspec": {
   "display_name": "Python 3.8.10 ('py38')",
   "language": "python",
   "name": "python3"
  },
  "language_info": {
   "codemirror_mode": {
    "name": "ipython",
    "version": 3
   },
   "file_extension": ".py",
   "mimetype": "text/x-python",
   "name": "python",
   "nbconvert_exporter": "python",
   "pygments_lexer": "ipython3",
   "version": "3.8.10"
  },
  "orig_nbformat": 4,
  "vscode": {
   "interpreter": {
    "hash": "953727d1e95b678a3946b8bfc3d5a175ea50e205ad779370d1fb67fabbb85d7d"
   }
  }
 },
 "nbformat": 4,
 "nbformat_minor": 2
}
