{
 "cells": [
  {
   "cell_type": "code",
   "execution_count": 1,
   "metadata": {},
   "outputs": [],
   "source": [
    "import os\n",
    "import sys\n",
    "\n",
    "def import_package(depth: int, is_jupyter: bool):\n",
    "    if is_jupyter is False:\n",
    "        current_dir = os.path.dirname(os.path.abspath(__file__))\n",
    "    else:\n",
    "        current_dir = os.getcwd()\n",
    "\n",
    "    parent_dir = current_dir\n",
    "    while depth > 0:\n",
    "        depth -= 1\n",
    "        parent_dir = os.path.dirname(parent_dir)\n",
    "        \n",
    "    sys.path.insert(0, parent_dir)\n",
    "\n",
    "import_package(1, True)\n"
   ]
  },
  {
   "cell_type": "code",
   "execution_count": 2,
   "metadata": {},
   "outputs": [],
   "source": [
    "from src.labeling.ETLProcessor import ETLProcessor\n",
    "from src.labeling.utils import get_spark, query\n",
    "from omegaconf import OmegaConf"
   ]
  },
  {
   "cell_type": "code",
   "execution_count": 3,
   "metadata": {},
   "outputs": [
    {
     "name": "stderr",
     "output_type": "stream",
     "text": [
      "WARNING: An illegal reflective access operation has occurred\n",
      "WARNING: Illegal reflective access by org.apache.spark.unsafe.Platform (file:/Users/nguyenhuyhai/opt/anaconda3/lib/python3.9/site-packages/pyspark/jars/spark-unsafe_2.12-3.1.2.jar) to constructor java.nio.DirectByteBuffer(long,int)\n",
      "WARNING: Please consider reporting this to the maintainers of org.apache.spark.unsafe.Platform\n",
      "WARNING: Use --illegal-access=warn to enable warnings of further illegal reflective access operations\n",
      "WARNING: All illegal access operations will be denied in a future release\n",
      "22/12/08 18:13:00 WARN NativeCodeLoader: Unable to load native-hadoop library for your platform... using builtin-java classes where applicable\n",
      "Using Spark's default log4j profile: org/apache/spark/log4j-defaults.properties\n",
      "Setting default log level to \"WARN\".\n",
      "To adjust logging level use sc.setLogLevel(newLevel). For SparkR, use setLogLevel(newLevel).\n"
     ]
    },
    {
     "name": "stdout",
     "output_type": "stream",
     "text": [
      "Successfully queried data from database\n",
      "root\n",
      " |-- block_height: integer (nullable = true)\n",
      " |-- operator_address: string (nullable = true)\n",
      " |-- jailed: boolean (nullable = true)\n",
      " |-- status: string (nullable = true)\n",
      " |-- tokens: decimal(38,0) (nullable = true)\n",
      " |-- commission_rate: float (nullable = true)\n",
      " |-- delegator_shares: decimal(38,0) (nullable = true)\n",
      " |-- self_bonded: decimal(38,0) (nullable = true)\n",
      " |-- propose: boolean (nullable = true)\n",
      " |-- vote: boolean (nullable = true)\n",
      "\n"
     ]
    }
   ],
   "source": [
    "config = OmegaConf.load(\"../config_small.yml\")\n",
    "spark = get_spark('../lib/postgresql-42.5.0.jar')\n",
    "\n",
    "df = query(spark, **config.db)\n",
    "df.printSchema()"
   ]
  },
  {
   "cell_type": "code",
   "execution_count": 4,
   "metadata": {},
   "outputs": [
    {
     "name": "stdout",
     "output_type": "stream",
     "text": [
      "------------------------------------------------\n",
      "Successfully converted voting_power_score column\n",
      "------------------------------------------------\n",
      "------------------------------------------------\n",
      "Successfully converted commission_score column\n",
      "------------------------------------------------\n",
      "------------------------------------------------\n",
      "Successfully converted self_bonded_score column\n",
      "------------------------------------------------\n",
      "------------------------------------------------\n",
      "Successfully converted vote_propose_score column\n",
      "------------------------------------------------\n",
      "------------------------------------------------\n",
      "Sucessfully converted final_score\n",
      "------------------------------------------------\n",
      "------------------------------------------------\n",
      "Sucessfully combine data\n",
      "------------------------------------------------\n",
      "------------------------------------------------\n",
      "Sucessfully shifting data\n",
      "------------------------------------------------\n"
     ]
    }
   ],
   "source": [
    "accept_rate = 0.1\n",
    "concentration_level = 0.9\n",
    "vote_score = 2\n",
    "propose_score = 6\n",
    "A = 9\n",
    "B = 4\n",
    "C = 2\n",
    "D = 4\n",
    "\"\"\"\n",
    "suitable parameters are:\n",
    "vote_proposed_win_size = 14400 (blocks) \n",
    "combine_win_size = 150 (blocks)\n",
    "label_win_size = 100800 (blocks)\n",
    "Approximate each block ~~ 6seconds\n",
    "\"\"\"\n",
    "vote_proposed_win_size = 500 #This is just test, favourable is\n",
    "combine_win_size = 20 \n",
    "label_win_size = 60\n",
    "\n",
    "\n",
    "df = ETLProcessor.data_scoring(df, accept_rate, concentration_level, vote_score, propose_score, A, B, C, D,vote_proposed_win_size, combine_win_size, label_win_size)\n"
   ]
  },
  {
   "cell_type": "code",
   "execution_count": 5,
   "metadata": {},
   "outputs": [
    {
     "name": "stderr",
     "output_type": "stream",
     "text": [
      "                                                                                \r"
     ]
    },
    {
     "data": {
      "text/plain": [
       "756"
      ]
     },
     "execution_count": 5,
     "metadata": {},
     "output_type": "execute_result"
    }
   ],
   "source": [
    "df.count()"
   ]
  },
  {
   "cell_type": "code",
   "execution_count": null,
   "metadata": {},
   "outputs": [],
   "source": []
  }
 ],
 "metadata": {
  "kernelspec": {
   "display_name": "Python 3.8.10 ('py38')",
   "language": "python",
   "name": "python3"
  },
  "language_info": {
   "codemirror_mode": {
    "name": "ipython",
    "version": 3
   },
   "file_extension": ".py",
   "mimetype": "text/x-python",
   "name": "python",
   "nbconvert_exporter": "python",
   "pygments_lexer": "ipython3",
   "version": "3.9.12"
  },
  "orig_nbformat": 4,
  "vscode": {
   "interpreter": {
    "hash": "953727d1e95b678a3946b8bfc3d5a175ea50e205ad779370d1fb67fabbb85d7d"
   }
  }
 },
 "nbformat": 4,
 "nbformat_minor": 2
}
