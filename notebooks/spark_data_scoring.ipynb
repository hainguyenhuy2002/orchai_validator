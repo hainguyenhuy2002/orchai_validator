{
 "cells": [
  {
   "cell_type": "code",
   "execution_count": 2,
   "metadata": {},
   "outputs": [],
   "source": [
    "import os\n",
    "import sys\n",
    "\n",
    "def import_package(depth: int, is_jupyter: bool):\n",
    "    if is_jupyter is False:\n",
    "        current_dir = os.path.dirname(os.path.abspath(__file__))\n",
    "    else:\n",
    "        current_dir = os.getcwd()\n",
    "\n",
    "    parent_dir = current_dir\n",
    "    while depth > 0:\n",
    "        depth -= 1\n",
    "        parent_dir = os.path.dirname(parent_dir)\n",
    "        \n",
    "    sys.path.insert(0, parent_dir)\n",
    "\n",
    "import_package(1, True)\n"
   ]
  },
  {
   "cell_type": "code",
   "execution_count": 3,
   "metadata": {},
   "outputs": [],
   "source": [
    "from src.labeling.ETLProcessor import ETLProcessor\n",
    "from src.labeling.utils import get_spark, query\n",
    "from omegaconf import OmegaConf"
   ]
  },
  {
   "cell_type": "code",
   "execution_count": 4,
   "metadata": {},
   "outputs": [
    {
     "name": "stdout",
     "output_type": "stream",
     "text": [
      "Successfully queried data from database\n",
      "root\n",
      " |-- block_height: integer (nullable = true)\n",
      " |-- operator_address: string (nullable = true)\n",
      " |-- jailed: boolean (nullable = true)\n",
      " |-- status: string (nullable = true)\n",
      " |-- tokens: decimal(38,0) (nullable = true)\n",
      " |-- commission_rate: float (nullable = true)\n",
      " |-- delegator_shares: decimal(38,0) (nullable = true)\n",
      " |-- self_bonded: decimal(38,0) (nullable = true)\n",
      " |-- propose: boolean (nullable = true)\n",
      " |-- vote: boolean (nullable = true)\n",
      "\n"
     ]
    }
   ],
   "source": [
    "config = OmegaConf.load(\"../config_small.yml\")\n",
    "spark = get_spark('../lib/postgresql-42.5.0.jar')\n",
    "\n",
    "df = query(spark, **config.db)\n",
    "df.printSchema()"
   ]
  },
  {
   "cell_type": "code",
   "execution_count": 5,
   "metadata": {},
   "outputs": [
    {
     "name": "stdout",
     "output_type": "stream",
     "text": [
      "------------------------------------------------\n",
      "Successfully converted voting_power_score column\n",
      "------------------------------------------------\n",
      "------------------------------------------------\n",
      "Successfully converted commission_score column\n",
      "------------------------------------------------\n",
      "------------------------------------------------\n",
      "Successfully converted self_bonded_score column\n",
      "------------------------------------------------\n",
      "------------------------------------------------\n",
      "Successfully converted vote_propose_score column\n",
      "------------------------------------------------\n",
      "------------------------------------------------\n",
      "Sucessfully converted final_score\n",
      "------------------------------------------------\n"
     ]
    }
   ],
   "source": [
    "accept_rate = 0.1\n",
    "concentration_level = 0.9\n",
    "vote_score = 2\n",
    "propose_score = 6\n",
    "A = 9\n",
    "B = 4\n",
    "C = 2\n",
    "D = 4\n",
    "\n",
    "df = ETLProcessor.data_scoring(df, accept_rate, concentration_level, vote_score, propose_score, A, B, C, D)\n"
   ]
  },
  {
   "cell_type": "code",
   "execution_count": 6,
   "metadata": {},
   "outputs": [
    {
     "name": "stdout",
     "output_type": "stream",
     "text": [
      "root\n",
      " |-- block_height: integer (nullable = true)\n",
      " |-- operator_address: string (nullable = true)\n",
      " |-- jailed: integer (nullable = true)\n",
      " |-- status: string (nullable = true)\n",
      " |-- tokens: decimal(38,0) (nullable = true)\n",
      " |-- commission_rate: float (nullable = true)\n",
      " |-- delegator_shares: decimal(38,0) (nullable = true)\n",
      " |-- self_bonded: decimal(38,0) (nullable = true)\n",
      " |-- propose: integer (nullable = false)\n",
      " |-- vote: integer (nullable = false)\n",
      " |-- validators_count_per_block: long (nullable = true)\n",
      " |-- total_token_amt_per_block: decimal(38,0) (nullable = true)\n",
      " |-- total_self_bonded_amt_per_block: decimal(38,0) (nullable = true)\n",
      " |-- tokens_proportion: decimal(38,6) (nullable = true)\n",
      " |-- voting_power_score: double (nullable = true)\n",
      " |-- comission_score: double (nullable = true)\n",
      " |-- self_bonded_score: double (nullable = true)\n",
      " |-- vote_propose_score: double (nullable = true)\n",
      " |-- score: double (nullable = true)\n",
      "\n"
     ]
    }
   ],
   "source": [
    "df.printSchema()"
   ]
  },
  {
   "cell_type": "code",
   "execution_count": 7,
   "metadata": {},
   "outputs": [
    {
     "name": "stdout",
     "output_type": "stream",
     "text": [
      "+------------+----------------+------+------+------+---------------+----------------+-----------+-------+----+--------------------------+-------------------------+-------------------------------+-----------------+------------------+---------------+-----------------+------------------+-----+\n",
      "|block_height|operator_address|jailed|status|tokens|commission_rate|delegator_shares|self_bonded|propose|vote|validators_count_per_block|total_token_amt_per_block|total_self_bonded_amt_per_block|tokens_proportion|voting_power_score|comission_score|self_bonded_score|vote_propose_score|score|\n",
      "+------------+----------------+------+------+------+---------------+----------------+-----------+-------+----+--------------------------+-------------------------+-------------------------------+-----------------+------------------+---------------+-----------------+------------------+-----+\n",
      "+------------+----------------+------+------+------+---------------+----------------+-----------+-------+----+--------------------------+-------------------------+-------------------------------+-----------------+------------------+---------------+-----------------+------------------+-----+\n",
      "\n"
     ]
    }
   ],
   "source": [
    "df.show(5, truncate=False)"
   ]
  },
  {
   "cell_type": "code",
   "execution_count": null,
   "metadata": {},
   "outputs": [],
   "source": []
  }
 ],
 "metadata": {
  "kernelspec": {
   "display_name": "Python 3.8.10 ('py38')",
   "language": "python",
   "name": "python3"
  },
  "language_info": {
   "codemirror_mode": {
    "name": "ipython",
    "version": 3
   },
   "file_extension": ".py",
   "mimetype": "text/x-python",
   "name": "python",
   "nbconvert_exporter": "python",
   "pygments_lexer": "ipython3",
   "version": "3.8.10"
  },
  "orig_nbformat": 4,
  "vscode": {
   "interpreter": {
    "hash": "953727d1e95b678a3946b8bfc3d5a175ea50e205ad779370d1fb67fabbb85d7d"
   }
  }
 },
 "nbformat": 4,
 "nbformat_minor": 2
}
