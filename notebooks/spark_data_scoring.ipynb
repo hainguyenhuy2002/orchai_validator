{
 "cells": [
  {
   "cell_type": "code",
   "execution_count": 1,
   "metadata": {},
   "outputs": [
    {
     "name": "stdout",
     "output_type": "stream",
     "text": [
      "d:\\Blockchain\\data\\orai\\orchai_validator\n"
     ]
    }
   ],
   "source": [
    "%cd .."
   ]
  },
  {
   "cell_type": "code",
   "execution_count": 2,
   "metadata": {},
   "outputs": [],
   "source": [
    "from labeling.ETLProcessor import ETLProcessor\n",
    "from labeling.utils import get_spark, query\n",
    "from omegaconf import OmegaConf\n",
    "import pyspark.sql.functions as F"
   ]
  },
  {
   "cell_type": "code",
   "execution_count": 3,
   "metadata": {},
   "outputs": [],
   "source": [
    "spark = get_spark('./lib/postgresql-42.5.0.jar')\n",
    "\n",
    "def sample(spark):\n",
    "    config = OmegaConf.load(\"./config_small.yml\")\n",
    "    df = query(spark, **config.db)\n",
    "    df.printSchema()\n",
    "    max_height = df.agg(F.max(df.block_height)).collect()[0].asDict()['max(block_height)']\n",
    "    df = df.filter(df.block_height < max_height)\n",
    "    return df"
   ]
  },
  {
   "cell_type": "code",
   "execution_count": 4,
   "metadata": {},
   "outputs": [
    {
     "name": "stdout",
     "output_type": "stream",
     "text": [
      "Successfully queried data from database\n",
      "root\n",
      " |-- block_height: integer (nullable = true)\n",
      " |-- operator_address: string (nullable = true)\n",
      " |-- jailed: boolean (nullable = true)\n",
      " |-- status: string (nullable = true)\n",
      " |-- tokens: decimal(38,0) (nullable = true)\n",
      " |-- commission_rate: float (nullable = true)\n",
      " |-- delegator_shares: decimal(38,0) (nullable = true)\n",
      " |-- self_bonded: decimal(38,0) (nullable = true)\n",
      " |-- propose: boolean (nullable = true)\n",
      " |-- vote: boolean (nullable = true)\n",
      "\n"
     ]
    }
   ],
   "source": [
    "df = sample(spark)"
   ]
  },
  {
   "cell_type": "code",
   "execution_count": 5,
   "metadata": {},
   "outputs": [
    {
     "name": "stdout",
     "output_type": "stream",
     "text": [
      "------------------------------------------------\n",
      "Successfully converted voting_power_score column\n",
      "------------------------------------------------\n",
      "------------------------------------------------\n",
      "Successfully converted commission_score column\n",
      "------------------------------------------------\n",
      "------------------------------------------------\n",
      "Successfully converted self_bonded_score column\n",
      "------------------------------------------------\n",
      "------------------------------------------------\n",
      "Successfully converted vote_propose_score column\n",
      "------------------------------------------------\n",
      "------------------------------------------------\n",
      "Sucessfully converted final_score\n",
      "------------------------------------------------\n"
     ]
    }
   ],
   "source": [
    "accept_rate = 0.1\n",
    "concentration_level = 0.9\n",
    "vote_score = 2\n",
    "propose_score = 6\n",
    "A = 9\n",
    "B = 4\n",
    "C = 2\n",
    "D = 4\n",
    "\n",
    "df = ETLProcessor.data_scoring(df, accept_rate, concentration_level, vote_score, propose_score, A, B, C, D)"
   ]
  },
  {
   "cell_type": "code",
   "execution_count": 6,
   "metadata": {},
   "outputs": [
    {
     "name": "stdout",
     "output_type": "stream",
     "text": [
      "root\n",
      " |-- block_height: integer (nullable = true)\n",
      " |-- operator_address: string (nullable = true)\n",
      " |-- jailed: integer (nullable = true)\n",
      " |-- status: string (nullable = true)\n",
      " |-- tokens: decimal(38,0) (nullable = true)\n",
      " |-- commission_rate: float (nullable = true)\n",
      " |-- delegator_shares: decimal(38,0) (nullable = true)\n",
      " |-- self_bonded: decimal(38,0) (nullable = true)\n",
      " |-- propose: integer (nullable = false)\n",
      " |-- vote: integer (nullable = false)\n",
      " |-- validators_count_per_block: long (nullable = true)\n",
      " |-- total_token_amt_per_block: decimal(38,0) (nullable = true)\n",
      " |-- total_self_bonded_amt_per_block: decimal(38,0) (nullable = true)\n",
      " |-- tokens_proportion: decimal(38,6) (nullable = true)\n",
      " |-- voting_power_score: double (nullable = true)\n",
      " |-- comission_score: double (nullable = true)\n",
      " |-- self_bonded_score: double (nullable = true)\n",
      " |-- vote_propose_score: double (nullable = true)\n",
      " |-- score: double (nullable = true)\n",
      "\n"
     ]
    }
   ],
   "source": [
    "df.printSchema()"
   ]
  },
  {
   "cell_type": "code",
   "execution_count": 7,
   "metadata": {},
   "outputs": [],
   "source": [
    "df.write.csv(\"./data/orchai\", header=True)"
   ]
  },
  {
   "cell_type": "code",
   "execution_count": 12,
   "metadata": {},
   "outputs": [],
   "source": [
    "dp = spark.read.csv(\"./data/orchai\", inferSchema=True, header=True)"
   ]
  },
  {
   "cell_type": "code",
   "execution_count": 13,
   "metadata": {},
   "outputs": [
    {
     "data": {
      "text/plain": [
       "['block_height',\n",
       " 'operator_address',\n",
       " 'jailed',\n",
       " 'status',\n",
       " 'tokens',\n",
       " 'commission_rate',\n",
       " 'delegator_shares',\n",
       " 'self_bonded',\n",
       " 'propose',\n",
       " 'vote',\n",
       " 'validators_count_per_block',\n",
       " 'total_token_amt_per_block',\n",
       " 'total_self_bonded_amt_per_block',\n",
       " 'tokens_proportion',\n",
       " 'voting_power_score',\n",
       " 'comission_score',\n",
       " 'self_bonded_score',\n",
       " 'vote_propose_score',\n",
       " 'score']"
      ]
     },
     "execution_count": 13,
     "metadata": {},
     "output_type": "execute_result"
    }
   ],
   "source": [
    "dp.columns"
   ]
  },
  {
   "cell_type": "code",
   "execution_count": null,
   "metadata": {},
   "outputs": [],
   "source": []
  }
 ],
 "metadata": {
  "kernelspec": {
   "display_name": "Python 3.8.10 ('py38')",
   "language": "python",
   "name": "python3"
  },
  "language_info": {
   "codemirror_mode": {
    "name": "ipython",
    "version": 3
   },
   "file_extension": ".py",
   "mimetype": "text/x-python",
   "name": "python",
   "nbconvert_exporter": "python",
   "pygments_lexer": "ipython3",
   "version": "3.8.10"
  },
  "orig_nbformat": 4,
  "vscode": {
   "interpreter": {
    "hash": "953727d1e95b678a3946b8bfc3d5a175ea50e205ad779370d1fb67fabbb85d7d"
   }
  }
 },
 "nbformat": 4,
 "nbformat_minor": 2
}
