{
 "cells": [
  {
   "cell_type": "code",
   "execution_count": 1,
   "metadata": {},
   "outputs": [
    {
     "name": "stdout",
     "output_type": "stream",
     "text": [
      "d:\\Blockchain\\data\\orai\\orchai_validator\n"
     ]
    }
   ],
   "source": [
    "%cd .."
   ]
  },
  {
   "cell_type": "code",
   "execution_count": 2,
   "metadata": {},
   "outputs": [],
   "source": [
    "from omegaconf import OmegaConf\n",
    "from labeling.tools import psql_connect\n",
    "import numpy as np"
   ]
  },
  {
   "cell_type": "code",
   "execution_count": 3,
   "metadata": {},
   "outputs": [],
   "source": [
    "config = OmegaConf.load(\"config/etl.yaml\")\n",
    "cur = psql_connect(**config.dest).cursor()"
   ]
  },
  {
   "cell_type": "code",
   "execution_count": 4,
   "metadata": {},
   "outputs": [],
   "source": [
    "cur.execute(f\"select distinct block_height from {config.dest.table} order by block_height;\")\n",
    "bh = cur.fetchall()\n",
    "bh = np.array([b[0] for b in bh])"
   ]
  },
  {
   "cell_type": "code",
   "execution_count": 5,
   "metadata": {},
   "outputs": [
    {
     "data": {
      "text/plain": [
       "(4655,)"
      ]
     },
     "execution_count": 5,
     "metadata": {},
     "output_type": "execute_result"
    }
   ],
   "source": [
    "bh.shape"
   ]
  },
  {
   "cell_type": "code",
   "execution_count": 13,
   "metadata": {},
   "outputs": [
    {
     "data": {
      "text/plain": [
       "Counter({34: 19,\n",
       "         60: 1,\n",
       "         116: 18,\n",
       "         150: 4608,\n",
       "         266: 1,\n",
       "         300: 2,\n",
       "         390: 1,\n",
       "         195750: 1,\n",
       "         195900: 1,\n",
       "         230550: 1,\n",
       "         530400: 1})"
      ]
     },
     "execution_count": 13,
     "metadata": {},
     "output_type": "execute_result"
    }
   ],
   "source": [
    "diff = np.diff(bh)\n",
    "diff.sort()\n",
    "\n",
    "from collections import Counter\n",
    "\n",
    "c = Counter(diff)\n",
    "c"
   ]
  },
  {
   "attachments": {},
   "cell_type": "markdown",
   "metadata": {},
   "source": [
    "## Missing block:\n",
    "```\n",
    "7272731 7272972 | 241\n",
    "7883969 7884210 | 241\n",
    "8699979 8700001 | 22\n",
    "9057005 9057016 | 11\n",
    "9057065 9057076 | 11\n",
    "```"
   ]
  },
  {
   "cell_type": "code",
   "execution_count": 7,
   "metadata": {},
   "outputs": [
    {
     "name": "stdout",
     "output_type": "stream",
     "text": [
      "7202771 7203071 | 300\n",
      "7234871 7234905 | 34\n",
      "7234905 7235021 | 116\n",
      "7235021 7235055 | 34\n",
      "7235055 7235171 | 116\n",
      "7235171 7235205 | 34\n",
      "7235205 7235321 | 116\n",
      "7235321 7235355 | 34\n",
      "7235355 7235471 | 116\n",
      "7235471 7235505 | 34\n",
      "7235505 7235621 | 116\n",
      "7235621 7235655 | 34\n",
      "7235655 7235771 | 116\n",
      "7235771 7235805 | 34\n",
      "7235805 7235921 | 116\n",
      "7235921 7235955 | 34\n",
      "7235955 7236071 | 116\n",
      "7236071 7236105 | 34\n",
      "7236105 7236221 | 116\n",
      "7236221 7236255 | 34\n",
      "7236255 7236371 | 116\n",
      "7236371 7236405 | 34\n",
      "7236405 7236521 | 116\n",
      "7236521 7236555 | 34\n",
      "7236555 7236671 | 116\n",
      "7236671 7236705 | 34\n",
      "7236705 7236821 | 116\n",
      "7236821 7236855 | 34\n",
      "7236855 7236971 | 116\n",
      "7236971 7237005 | 34\n",
      "7237005 7237121 | 116\n",
      "7237121 7237155 | 34\n",
      "7237155 7237271 | 116\n",
      "7237271 7237305 | 34\n",
      "7237305 7237421 | 116\n",
      "7237421 7237455 | 34\n",
      "7237455 7237571 | 116\n",
      "7237571 7237605 | 34\n",
      "7237605 7237871 | 266\n",
      "7272371 7272671 | 300\n",
      "7272671 7273061 | 390\n",
      "7307411 7307471 | 60\n",
      "7411721 7942121 | 530400\n",
      "8046371 8242271 | 195900\n",
      "8311721 8542271 | 230550\n",
      "8646521 8842271 | 195750\n"
     ]
    }
   ],
   "source": [
    "diff = np.diff(bh)\n",
    "combine_win_size = config.hp.etl.combine_win_size\n",
    "\n",
    "for i, d in enumerate(diff):\n",
    "    if d != combine_win_size:\n",
    "        print(bh[i], bh[i+1], \"|\", d)"
   ]
  },
  {
   "attachments": {},
   "cell_type": "markdown",
   "metadata": {},
   "source": [
    "## Total block"
   ]
  },
  {
   "cell_type": "code",
   "execution_count": 8,
   "metadata": {},
   "outputs": [
    {
     "name": "stdout",
     "output_type": "stream",
     "text": [
      "[(7049472,)]\n"
     ]
    }
   ],
   "source": [
    "cur.execute(f\"select min(block_height) from public.validator_block;\")\n",
    "print(cur.fetchall())"
   ]
  },
  {
   "cell_type": "code",
   "execution_count": 9,
   "metadata": {},
   "outputs": [
    {
     "data": {
      "text/plain": [
       "{'accept_rate': 0.1, 'concentration_level': 0.9, 'vote_score': 2, 'propose_score': 6, 'A': 9, 'B': 4, 'C': 2, 'D': 4, 'vote_proposed_win_size': 14400, 'combine_win_size': 150, 'label_win_size': 100800}"
      ]
     },
     "execution_count": 9,
     "metadata": {},
     "output_type": "execute_result"
    }
   ],
   "source": [
    "config.hp.etl"
   ]
  },
  {
   "cell_type": "code",
   "execution_count": 10,
   "metadata": {},
   "outputs": [
    {
     "name": "stdout",
     "output_type": "stream",
     "text": [
      "total blocks: 12706.88\n"
     ]
    }
   ],
   "source": [
    "print(\"total blocks:\", ((9070703 - 100800 - 150) - (7049472 + 14400 - 1)) / 150 + 1)"
   ]
  },
  {
   "attachments": {},
   "cell_type": "markdown",
   "metadata": {},
   "source": [
    "## Next block"
   ]
  },
  {
   "cell_type": "code",
   "execution_count": 11,
   "metadata": {},
   "outputs": [],
   "source": [
    "def next_start(height, step=1):\n",
    "    return height + config.hp.etl.combine_win_size * step"
   ]
  },
  {
   "cell_type": "code",
   "execution_count": 48,
   "metadata": {},
   "outputs": [
    {
     "data": {
      "text/plain": [
       "8911871"
      ]
     },
     "execution_count": 48,
     "metadata": {},
     "output_type": "execute_result"
    }
   ],
   "source": [
    "next_start(8911721, 1) "
   ]
  },
  {
   "cell_type": "code",
   "execution_count": 38,
   "metadata": {},
   "outputs": [
    {
     "data": {
      "text/plain": [
       "8911721"
      ]
     },
     "execution_count": 38,
     "metadata": {},
     "output_type": "execute_result"
    }
   ],
   "source": [
    "bh[-1]"
   ]
  },
  {
   "cell_type": "code",
   "execution_count": null,
   "metadata": {},
   "outputs": [],
   "source": []
  }
 ],
 "metadata": {
  "kernelspec": {
   "display_name": "py38",
   "language": "python",
   "name": "python3"
  },
  "language_info": {
   "codemirror_mode": {
    "name": "ipython",
    "version": 3
   },
   "file_extension": ".py",
   "mimetype": "text/x-python",
   "name": "python",
   "nbconvert_exporter": "python",
   "pygments_lexer": "ipython3",
   "version": "3.8.10"
  },
  "orig_nbformat": 4,
  "vscode": {
   "interpreter": {
    "hash": "953727d1e95b678a3946b8bfc3d5a175ea50e205ad779370d1fb67fabbb85d7d"
   }
  }
 },
 "nbformat": 4,
 "nbformat_minor": 2
}
