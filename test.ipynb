{
 "cells": [
  {
   "cell_type": "code",
   "execution_count": 1,
   "metadata": {},
   "outputs": [],
   "source": [
    "from pyspark.sql import SparkSession, DataFrame, Window\n",
    "import pyspark.sql.functions as F\n"
   ]
  },
  {
   "cell_type": "code",
   "execution_count": 2,
   "metadata": {},
   "outputs": [
    {
     "name": "stderr",
     "output_type": "stream",
     "text": [
      "WARNING: An illegal reflective access operation has occurred\n",
      "WARNING: Illegal reflective access by org.apache.spark.unsafe.Platform (file:/Users/nguyenhuyhai/opt/anaconda3/lib/python3.9/site-packages/pyspark/jars/spark-unsafe_2.12-3.1.2.jar) to constructor java.nio.DirectByteBuffer(long,int)\n",
      "WARNING: Please consider reporting this to the maintainers of org.apache.spark.unsafe.Platform\n",
      "WARNING: Use --illegal-access=warn to enable warnings of further illegal reflective access operations\n",
      "WARNING: All illegal access operations will be denied in a future release\n",
      "22/12/14 12:20:14 WARN NativeCodeLoader: Unable to load native-hadoop library for your platform... using builtin-java classes where applicable\n",
      "Using Spark's default log4j profile: org/apache/spark/log4j-defaults.properties\n",
      "Setting default log level to \"WARN\".\n",
      "To adjust logging level use sc.setLogLevel(newLevel). For SparkR, use setLogLevel(newLevel).\n"
     ]
    }
   ],
   "source": [
    "spark = SparkSession.builder.appName(\"Python Spark SQL basic example\").getOrCreate()"
   ]
  },
  {
   "cell_type": "code",
   "execution_count": 71,
   "metadata": {},
   "outputs": [],
   "source": [
    "df = spark.createDataFrame(\n",
    "    [\n",
    "        (\"a\",1,200,1),\n",
    "        (\"a\",2,5,1),\n",
    "        (\"a\",3,2,1),\n",
    "        (\"a\",4,2,1),\n",
    "        (\"a\",5,2,1),\n",
    "        (\"a\",6,2,1),\n",
    "        (\"a\",7,2,1),\n",
    "        (\"a\",8,2,1),\n",
    "        (\"a\",9,2,1),\n",
    "        (\"a\",10,2,1),\n",
    "        (\"b\",1,4,1),\n",
    "        (\"b\",2,4,1), \n",
    "        (\"b\",3,20,1), \n",
    "        (\"b\",4,12,1), \n",
    "        (\"b\",6,4,1), \n",
    "        (\"b\",7,4,1), \n",
    "        (\"b\",8,10,1), \n",
    "        (\"b\",9,4,1), \n",
    "        (\"b\",10,4,1),\n",
    "        (\"c\",1,4,1),\n",
    "        (\"c\",2,4,1), \n",
    "        (\"c\",3,4,1), \n",
    "        (\"c\",4,4,1),\n",
    "        (\"c\",5,7,1),\n",
    "        (\"c\",6,4,1), \n",
    "        (\"c\",7,4,1), \n",
    "        (\"c\",8,4,1), \n",
    "        (\"c\",9,4,1), \n",
    "        (\"c\",10,4,1),\n",
    "        (\"d\",1,4,1),\n",
    "        (\"d\",2,4,1), \n",
    "        (\"d\",3,4,1), \n",
    "        (\"d\",4,4,1),\n",
    "        (\"d\",5,7,1),\n",
    "        (\"d\",6,4,1), \n",
    "        (\"d\",7,4,1), \n",
    "        (\"d\",8,4,1), \n",
    "        (\"d\",9,4,1), \n",
    "        (\"d\",10,4,1),\n",
    "        (\"e\",1,4,1),\n",
    "        (\"e\",2,4,1), \n",
    "        (\"e\",3,4,1), \n",
    "        (\"e\",4,4,1),\n",
    "        (\"e\",5,7,1),\n",
    "        (\"e\",6,4,1), \n",
    "        (\"e\",7,4,1), \n",
    "        (\"e\",8,4,1), \n",
    "        (\"e\",9,4,1), \n",
    "        (\"e\",10,4,1),\n",
    "        (\"f\",1,4,1),\n",
    "        (\"f\",2,4,1), \n",
    "        (\"f\",3,4,1), \n",
    "        (\"f\",4,4,1),\n",
    "        (\"f\",5,7,1),\n",
    "        (\"f\",6,4,1), \n",
    "        (\"f\",7,4,1), \n",
    "        (\"f\",8,4,1), \n",
    "        (\"f\",9,4,1), \n",
    "        (\"f\",10,4,1),\n",
    "        (\"g\",1,4,1),\n",
    "        (\"g\",2,4,1), \n",
    "        (\"g\",3,4,1), \n",
    "        (\"g\",4,4,1),\n",
    "        (\"g\",5,7,1),\n",
    "        (\"g\",6,4,1), \n",
    "        (\"g\",7,4,1), \n",
    "        (\"g\",8,4,1), \n",
    "        (\"g\",9,4,1), \n",
    "        (\"g\",10,4,1),\n",
    "    \n",
    "    ],\n",
    "\n",
    "    [\"operator_address\", \"block_height\", \"score\", \"blah\"]\n",
    "    \n",
    "    \n",
    "    \n",
    "    \n",
    "    \n",
    "    \n",
    "    )"
   ]
  },
  {
   "cell_type": "code",
   "execution_count": 72,
   "metadata": {},
   "outputs": [
    {
     "name": "stdout",
     "output_type": "stream",
     "text": [
      "+----------------+------------+-----+----+\n",
      "|operator_address|block_height|score|blah|\n",
      "+----------------+------------+-----+----+\n",
      "|               a|           1|  200|   1|\n",
      "|               a|           2|    5|   1|\n",
      "|               a|           3|    2|   1|\n",
      "|               a|           4|    2|   1|\n",
      "|               a|           5|    2|   1|\n",
      "|               a|           6|    2|   1|\n",
      "|               a|           7|    2|   1|\n",
      "|               a|           8|    2|   1|\n",
      "|               a|           9|    2|   1|\n",
      "|               a|          10|    2|   1|\n",
      "|               b|           1|    4|   1|\n",
      "|               b|           2|    4|   1|\n",
      "|               b|           3|   20|   1|\n",
      "|               b|           4|   12|   1|\n",
      "|               b|           6|    4|   1|\n",
      "|               b|           7|    4|   1|\n",
      "|               b|           8|   10|   1|\n",
      "|               b|           9|    4|   1|\n",
      "|               b|          10|    4|   1|\n",
      "|               c|           1|    4|   1|\n",
      "|               c|           2|    4|   1|\n",
      "|               c|           3|    4|   1|\n",
      "|               c|           4|    4|   1|\n",
      "|               c|           5|    7|   1|\n",
      "|               c|           6|    4|   1|\n",
      "|               c|           7|    4|   1|\n",
      "|               c|           8|    4|   1|\n",
      "|               c|           9|    4|   1|\n",
      "|               c|          10|    4|   1|\n",
      "|               d|           1|    4|   1|\n",
      "|               d|           2|    4|   1|\n",
      "|               d|           3|    4|   1|\n",
      "|               d|           4|    4|   1|\n",
      "|               d|           5|    7|   1|\n",
      "|               d|           6|    4|   1|\n",
      "|               d|           7|    4|   1|\n",
      "|               d|           8|    4|   1|\n",
      "|               d|           9|    4|   1|\n",
      "|               d|          10|    4|   1|\n",
      "|               e|           1|    4|   1|\n",
      "|               e|           2|    4|   1|\n",
      "|               e|           3|    4|   1|\n",
      "|               e|           4|    4|   1|\n",
      "|               e|           5|    7|   1|\n",
      "|               e|           6|    4|   1|\n",
      "|               e|           7|    4|   1|\n",
      "|               e|           8|    4|   1|\n",
      "|               e|           9|    4|   1|\n",
      "|               e|          10|    4|   1|\n",
      "|               f|           1|    4|   1|\n",
      "|               f|           2|    4|   1|\n",
      "|               f|           3|    4|   1|\n",
      "|               f|           4|    4|   1|\n",
      "|               f|           5|    7|   1|\n",
      "|               f|           6|    4|   1|\n",
      "|               f|           7|    4|   1|\n",
      "|               f|           8|    4|   1|\n",
      "|               f|           9|    4|   1|\n",
      "|               f|          10|    4|   1|\n",
      "|               g|           1|    4|   1|\n",
      "|               g|           2|    4|   1|\n",
      "|               g|           3|    4|   1|\n",
      "|               g|           4|    4|   1|\n",
      "|               g|           5|    7|   1|\n",
      "|               g|           6|    4|   1|\n",
      "|               g|           7|    4|   1|\n",
      "|               g|           8|    4|   1|\n",
      "|               g|           9|    4|   1|\n",
      "|               g|          10|    4|   1|\n",
      "+----------------+------------+-----+----+\n",
      "\n"
     ]
    }
   ],
   "source": [
    "df.show(200)"
   ]
  },
  {
   "cell_type": "code",
   "execution_count": 73,
   "metadata": {},
   "outputs": [],
   "source": [
    "def validator_filter(df, start_block: int, end_block: int, top_validators: int):\n",
    "  \n",
    "  top = df.filter(\n",
    "    \n",
    "    df.block_height.between(start_block,end_block)\n",
    "    \n",
    "    ).\\\n",
    "    groupBy(\"operator_address\").agg({\"score\": \"mean\"}).\\\n",
    "    orderBy(F.col(\"avg(score)\").desc())\n",
    "\n",
    "  list = []\n",
    "  for i in top.head(top_validators):\n",
    "      list.append(i.operator_address)\n",
    "\n",
    "  new_df = df.filter(\n",
    "      df.operator_address.isin(list)\n",
    "  )\n",
    "\n",
    "  return new_df"
   ]
  },
  {
   "cell_type": "code",
   "execution_count": 74,
   "metadata": {},
   "outputs": [
    {
     "name": "stderr",
     "output_type": "stream",
     "text": [
      "                                                                                \r"
     ]
    }
   ],
   "source": [
    "new_df = validator_filter(df, 1, 8, 3)"
   ]
  },
  {
   "cell_type": "code",
   "execution_count": 77,
   "metadata": {},
   "outputs": [
    {
     "name": "stdout",
     "output_type": "stream",
     "text": [
      "+----------------+------------+-----+----+\n",
      "|operator_address|block_height|score|blah|\n",
      "+----------------+------------+-----+----+\n",
      "|               a|           1|  200|   1|\n",
      "|               a|           2|    5|   1|\n",
      "|               a|           3|    2|   1|\n",
      "|               a|           4|    2|   1|\n",
      "|               a|           5|    2|   1|\n",
      "|               a|           6|    2|   1|\n",
      "|               a|           7|    2|   1|\n",
      "|               a|           8|    2|   1|\n",
      "|               a|           9|    2|   1|\n",
      "|               a|          10|    2|   1|\n",
      "|               b|           1|    4|   1|\n",
      "|               b|           2|    4|   1|\n",
      "|               b|           3|   20|   1|\n",
      "|               b|           4|   12|   1|\n",
      "|               b|           6|    4|   1|\n",
      "|               b|           7|    4|   1|\n",
      "|               b|           8|   10|   1|\n",
      "|               b|           9|    4|   1|\n",
      "|               b|          10|    4|   1|\n",
      "|               f|           1|    4|   1|\n",
      "|               f|           2|    4|   1|\n",
      "|               f|           3|    4|   1|\n",
      "|               f|           4|    4|   1|\n",
      "|               f|           5|    7|   1|\n",
      "|               f|           6|    4|   1|\n",
      "|               f|           7|    4|   1|\n",
      "|               f|           8|    4|   1|\n",
      "|               f|           9|    4|   1|\n",
      "|               f|          10|    4|   1|\n",
      "+----------------+------------+-----+----+\n",
      "\n"
     ]
    }
   ],
   "source": [
    "new_df.show(200)"
   ]
  },
  {
   "cell_type": "code",
   "execution_count": 69,
   "metadata": {},
   "outputs": [
    {
     "name": "stderr",
     "output_type": "stream",
     "text": [
      "                                                                                \r"
     ]
    }
   ],
   "source": [
    "top = df.filter(\n",
    "    \n",
    "    df.block_height.between(1,5)\n",
    "    \n",
    "    ).\\\n",
    "    groupBy(\"operator_address\").agg({\"score\": \"mean\"}).\\\n",
    "    orderBy(F.col(\"avg(score)\").desc())\n",
    "\n",
    "list = []\n",
    "for i in top.head(2):\n",
    "    list.append(i.operator_address)\n",
    "\n",
    "new_df = df.filter(\n",
    "      df.operator_address.isin(list)\n",
    "  )"
   ]
  },
  {
   "cell_type": "code",
   "execution_count": 70,
   "metadata": {},
   "outputs": [
    {
     "name": "stdout",
     "output_type": "stream",
     "text": [
      "+----------------+------------+-----+\n",
      "|operator_address|block_height|score|\n",
      "+----------------+------------+-----+\n",
      "|               a|           1|  200|\n",
      "|               a|           2|    5|\n",
      "|               a|           3|    2|\n",
      "|               a|           4|    2|\n",
      "|               a|           5|    2|\n",
      "|               a|           6|    2|\n",
      "|               a|           7|    2|\n",
      "|               a|           8|    2|\n",
      "|               a|           9|    2|\n",
      "|               a|          10|    2|\n",
      "|               b|           1|    4|\n",
      "|               b|           2|    4|\n",
      "|               b|           3|   20|\n",
      "|               b|           4|   12|\n",
      "|               b|           6|    4|\n",
      "|               b|           7|    4|\n",
      "|               b|           8|   10|\n",
      "|               b|           9|    4|\n",
      "|               b|          10|    4|\n",
      "+----------------+------------+-----+\n",
      "\n"
     ]
    }
   ],
   "source": [
    "new_df.show(100)"
   ]
  },
  {
   "cell_type": "code",
   "execution_count": 66,
   "metadata": {},
   "outputs": [
    {
     "name": "stdout",
     "output_type": "stream",
     "text": [
      "+----------------+------------+-----+\n",
      "|operator_address|block_height|score|\n",
      "+----------------+------------+-----+\n",
      "|               a|           1|  200|\n",
      "|               a|           2|    5|\n",
      "|               a|           3|    2|\n",
      "|               a|           4|    2|\n",
      "|               a|           5|    2|\n",
      "|               a|           6|    2|\n",
      "|               a|           7|    2|\n",
      "|               a|           8|    2|\n",
      "|               a|           9|    2|\n",
      "|               a|          10|    2|\n",
      "|               b|           1|    4|\n",
      "|               b|           2|    4|\n",
      "|               b|           3|   20|\n",
      "|               b|           4|   12|\n",
      "|               b|           6|    4|\n",
      "|               b|           7|    4|\n",
      "|               b|           8|   10|\n",
      "|               b|           9|    4|\n",
      "|               b|          10|    4|\n",
      "|               f|           1|    4|\n",
      "|               f|           2|    4|\n",
      "|               f|           3|    4|\n",
      "|               f|           4|    4|\n",
      "|               f|           5|    7|\n",
      "|               f|           6|    4|\n",
      "|               f|           7|    4|\n",
      "|               f|           8|    4|\n",
      "|               f|           9|    4|\n",
      "|               f|          10|    4|\n",
      "+----------------+------------+-----+\n",
      "\n"
     ]
    }
   ],
   "source": [
    "new_df.show(100)"
   ]
  },
  {
   "cell_type": "code",
   "execution_count": 48,
   "metadata": {},
   "outputs": [
    {
     "name": "stdout",
     "output_type": "stream",
     "text": [
      "+----------------+------------+-----+\n",
      "|operator_address|block_height|score|\n",
      "+----------------+------------+-----+\n",
      "|               a|           1|    2|\n",
      "|               a|           2|    5|\n",
      "|               a|           3|    2|\n",
      "|               a|           4|    2|\n",
      "|               a|           5|    2|\n",
      "|               a|           6|    2|\n",
      "|               a|           7|    2|\n",
      "|               a|           8|    2|\n",
      "|               a|           9|    2|\n",
      "|               a|          10|    2|\n",
      "|               c|           1|    4|\n",
      "|               c|           2|    4|\n",
      "|               c|           3|    4|\n",
      "|               c|           4|    4|\n",
      "|               c|           6|    4|\n",
      "|               c|           7|    4|\n",
      "|               c|           8|    4|\n",
      "|               c|           9|    4|\n",
      "|               c|          10|    4|\n",
      "+----------------+------------+-----+\n",
      "\n"
     ]
    }
   ],
   "source": []
  },
  {
   "cell_type": "code",
   "execution_count": null,
   "metadata": {},
   "outputs": [],
   "source": []
  }
 ],
 "metadata": {
  "interpreter": {
   "hash": "aee8b7b246df8f9039afb4144a1f6fd8d2ca17a180786b69acc140d282b71a49"
  },
  "kernelspec": {
   "display_name": "Python 3.10.0 64-bit",
   "language": "python",
   "name": "python3"
  },
  "language_info": {
   "codemirror_mode": {
    "name": "ipython",
    "version": 3
   },
   "file_extension": ".py",
   "mimetype": "text/x-python",
   "name": "python",
   "nbconvert_exporter": "python",
   "pygments_lexer": "ipython3",
   "version": "3.9.12"
  },
  "orig_nbformat": 4
 },
 "nbformat": 4,
 "nbformat_minor": 2
}
