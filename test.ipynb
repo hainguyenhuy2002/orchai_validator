{
 "cells": [
  {
   "cell_type": "code",
   "execution_count": 1,
   "metadata": {},
   "outputs": [],
   "source": [
    "from pyspark.sql import SparkSession, DataFrame, Window\n",
    "import pyspark.sql.functions as F\n"
   ]
  },
  {
   "cell_type": "code",
   "execution_count": 2,
   "metadata": {},
   "outputs": [
    {
     "name": "stderr",
     "output_type": "stream",
     "text": [
      "WARNING: An illegal reflective access operation has occurred\n",
      "WARNING: Illegal reflective access by org.apache.spark.unsafe.Platform (file:/Users/nguyenhuyhai/opt/anaconda3/lib/python3.9/site-packages/pyspark/jars/spark-unsafe_2.12-3.1.2.jar) to constructor java.nio.DirectByteBuffer(long,int)\n",
      "WARNING: Please consider reporting this to the maintainers of org.apache.spark.unsafe.Platform\n",
      "WARNING: Use --illegal-access=warn to enable warnings of further illegal reflective access operations\n",
      "WARNING: All illegal access operations will be denied in a future release\n",
      "22/12/14 12:20:14 WARN NativeCodeLoader: Unable to load native-hadoop library for your platform... using builtin-java classes where applicable\n",
      "Using Spark's default log4j profile: org/apache/spark/log4j-defaults.properties\n",
      "Setting default log level to \"WARN\".\n",
      "To adjust logging level use sc.setLogLevel(newLevel). For SparkR, use setLogLevel(newLevel).\n"
     ]
    }
   ],
   "source": [
    "spark = SparkSession.builder.appName(\"Python Spark SQL basic example\").getOrCreate()"
   ]
  },
  {
   "cell_type": "code",
   "execution_count": 71,
   "metadata": {},
   "outputs": [],
   "source": [
    "df = spark.createDataFrame(\n",
    "    [\n",
    "        (\"a\",1,200,1),\n",
    "        (\"a\",2,5,1),\n",
    "        (\"a\",3,2,1),\n",
    "        (\"a\",4,2,1),\n",
    "        (\"a\",5,2,1),\n",
    "        (\"a\",6,2,1),\n",
    "        (\"a\",7,2,1),\n",
    "        (\"a\",8,2,1),\n",
    "        (\"a\",9,2,1),\n",
    "        (\"a\",10,2,1),\n",
    "        (\"b\",1,4,1),\n",
    "        (\"b\",2,4,1), \n",
    "        (\"b\",3,20,1), \n",
    "        (\"b\",4,12,1), \n",
    "        (\"b\",6,4,1), \n",
    "        (\"b\",7,4,1), \n",
    "        (\"b\",8,10,1), \n",
    "        (\"b\",9,4,1), \n",
    "        (\"b\",10,4,1),\n",
    "        (\"c\",1,4,1),\n",
    "        (\"c\",2,4,1), \n",
    "        (\"c\",3,4,1), \n",
    "        (\"c\",4,4,1),\n",
    "        (\"c\",5,7,1),\n",
    "        (\"c\",6,4,1), \n",
    "        (\"c\",7,4,1), \n",
    "        (\"c\",8,4,1), \n",
    "        (\"c\",9,4,1), \n",
    "        (\"c\",10,4,1),\n",
    "        (\"d\",1,4,1),\n",
    "        (\"d\",2,4,1), \n",
    "        (\"d\",3,4,1), \n",
    "        (\"d\",4,4,1),\n",
    "        (\"d\",5,7,1),\n",
    "        (\"d\",6,4,1), \n",
    "        (\"d\",7,4,1), \n",
    "        (\"d\",8,4,1), \n",
    "        (\"d\",9,4,1), \n",
    "        (\"d\",10,4,1),\n",
    "        (\"e\",1,4,1),\n",
    "        (\"e\",2,4,1), \n",
    "        (\"e\",3,4,1), \n",
    "        (\"e\",4,4,1),\n",
    "        (\"e\",5,7,1),\n",
    "        (\"e\",6,4,1), \n",
    "        (\"e\",7,4,1), \n",
    "        (\"e\",8,4,1), \n",
    "        (\"e\",9,4,1), \n",
    "        (\"e\",10,4,1),\n",
    "        (\"f\",1,4,1),\n",
    "        (\"f\",2,4,1), \n",
    "        (\"f\",3,4,1), \n",
    "        (\"f\",4,4,1),\n",
    "        (\"f\",5,7,1),\n",
    "        (\"f\",6,4,1), \n",
    "        (\"f\",7,4,1), \n",
    "        (\"f\",8,4,1), \n",
    "        (\"f\",9,4,1), \n",
    "        (\"f\",10,4,1),\n",
    "        (\"g\",1,4,1),\n",
    "        (\"g\",2,4,1), \n",
    "        (\"g\",3,4,1), \n",
    "        (\"g\",4,4,1),\n",
    "        (\"g\",5,7,1),\n",
    "        (\"g\",6,4,1), \n",
    "        (\"g\",7,4,1), \n",
    "        (\"g\",8,4,1), \n",
    "        (\"g\",9,4,1), \n",
    "        (\"g\",10,4,1),\n",
    "    \n",
    "    ],\n",
    "\n",
    "    [\"operator_address\", \"block_height\", \"score\", \"blah\"]\n",
    "    \n",
    "    \n",
    "    \n",
    "    \n",
    "    \n",
    "    \n",
    "    )"
   ]
  },
  {
   "cell_type": "code",
   "execution_count": 72,
   "metadata": {},
   "outputs": [
    {
     "name": "stdout",
     "output_type": "stream",
     "text": [
      "+----------------+------------+-----+----+\n",
      "|operator_address|block_height|score|blah|\n",
      "+----------------+------------+-----+----+\n",
      "|               a|           1|  200|   1|\n",
      "|               a|           2|    5|   1|\n",
      "|               a|           3|    2|   1|\n",
      "|               a|           4|    2|   1|\n",
      "|               a|           5|    2|   1|\n",
      "|               a|           6|    2|   1|\n",
      "|               a|           7|    2|   1|\n",
      "|               a|           8|    2|   1|\n",
      "|               a|           9|    2|   1|\n",
      "|               a|          10|    2|   1|\n",
      "|               b|           1|    4|   1|\n",
      "|               b|           2|    4|   1|\n",
      "|               b|           3|   20|   1|\n",
      "|               b|           4|   12|   1|\n",
      "|               b|           6|    4|   1|\n",
      "|               b|           7|    4|   1|\n",
      "|               b|           8|   10|   1|\n",
      "|               b|           9|    4|   1|\n",
      "|               b|          10|    4|   1|\n",
      "|               c|           1|    4|   1|\n",
      "|               c|           2|    4|   1|\n",
      "|               c|           3|    4|   1|\n",
      "|               c|           4|    4|   1|\n",
      "|               c|           5|    7|   1|\n",
      "|               c|           6|    4|   1|\n",
      "|               c|           7|    4|   1|\n",
      "|               c|           8|    4|   1|\n",
      "|               c|           9|    4|   1|\n",
      "|               c|          10|    4|   1|\n",
      "|               d|           1|    4|   1|\n",
      "|               d|           2|    4|   1|\n",
      "|               d|           3|    4|   1|\n",
      "|               d|           4|    4|   1|\n",
      "|               d|           5|    7|   1|\n",
      "|               d|           6|    4|   1|\n",
      "|               d|           7|    4|   1|\n",
      "|               d|           8|    4|   1|\n",
      "|               d|           9|    4|   1|\n",
      "|               d|          10|    4|   1|\n",
      "|               e|           1|    4|   1|\n",
      "|               e|           2|    4|   1|\n",
      "|               e|           3|    4|   1|\n",
      "|               e|           4|    4|   1|\n",
      "|               e|           5|    7|   1|\n",
      "|               e|           6|    4|   1|\n",
      "|               e|           7|    4|   1|\n",
      "|               e|           8|    4|   1|\n",
      "|               e|           9|    4|   1|\n",
      "|               e|          10|    4|   1|\n",
      "|               f|           1|    4|   1|\n",
      "|               f|           2|    4|   1|\n",
      "|               f|           3|    4|   1|\n",
      "|               f|           4|    4|   1|\n",
      "|               f|           5|    7|   1|\n",
      "|               f|           6|    4|   1|\n",
      "|               f|           7|    4|   1|\n",
      "|               f|           8|    4|   1|\n",
      "|               f|           9|    4|   1|\n",
      "|               f|          10|    4|   1|\n",
      "|               g|           1|    4|   1|\n",
      "|               g|           2|    4|   1|\n",
      "|               g|           3|    4|   1|\n",
      "|               g|           4|    4|   1|\n",
      "|               g|           5|    7|   1|\n",
      "|               g|           6|    4|   1|\n",
      "|               g|           7|    4|   1|\n",
      "|               g|           8|    4|   1|\n",
      "|               g|           9|    4|   1|\n",
      "|               g|          10|    4|   1|\n",
      "+----------------+------------+-----+----+\n",
      "\n"
     ]
    }
   ],
   "source": [
    "df.show(200)"
   ]
  },
  {
   "cell_type": "code",
   "execution_count": 73,
   "metadata": {},
   "outputs": [],
   "source": [
    "def validator_filter(df, start_block: int, end_block: int, top_validators: int):\n",
    "  \n",
    "  top = df.filter(\n",
    "    \n",
    "    df.block_height.between(start_block,end_block)\n",
    "    \n",
    "    ).\\\n",
    "    groupBy(\"operator_address\").agg({\"score\": \"mean\"}).\\\n",
    "    orderBy(F.col(\"avg(score)\").desc())\n",
    "\n",
    "  list = []\n",
    "  for i in top.head(top_validators):\n",
    "      list.append(i.operator_address)\n",
    "\n",
    "  new_df = df.filter(\n",
    "      df.operator_address.isin(list)\n",
    "  )\n",
    "\n",
    "  return new_df"
   ]
  },
  {
   "cell_type": "code",
   "execution_count": 74,
   "metadata": {},
   "outputs": [
    {
     "name": "stderr",
     "output_type": "stream",
     "text": [
      "                                                                                \r"
     ]
    }
   ],
   "source": [
    "new_df = validator_filter(df, 1, 8, 3)"
   ]
  },
  {
   "cell_type": "code",
   "execution_count": 77,
   "metadata": {},
   "outputs": [
    {
     "name": "stdout",
     "output_type": "stream",
     "text": [
      "+----------------+------------+-----+----+\n",
      "|operator_address|block_height|score|blah|\n",
      "+----------------+------------+-----+----+\n",
      "|               a|           1|  200|   1|\n",
      "|               a|           2|    5|   1|\n",
      "|               a|           3|    2|   1|\n",
      "|               a|           4|    2|   1|\n",
      "|               a|           5|    2|   1|\n",
      "|               a|           6|    2|   1|\n",
      "|               a|           7|    2|   1|\n",
      "|               a|           8|    2|   1|\n",
      "|               a|           9|    2|   1|\n",
      "|               a|          10|    2|   1|\n",
      "|               b|           1|    4|   1|\n",
      "|               b|           2|    4|   1|\n",
      "|               b|           3|   20|   1|\n",
      "|               b|           4|   12|   1|\n",
      "|               b|           6|    4|   1|\n",
      "|               b|           7|    4|   1|\n",
      "|               b|           8|   10|   1|\n",
      "|               b|           9|    4|   1|\n",
      "|               b|          10|    4|   1|\n",
      "|               f|           1|    4|   1|\n",
      "|               f|           2|    4|   1|\n",
      "|               f|           3|    4|   1|\n",
      "|               f|           4|    4|   1|\n",
      "|               f|           5|    7|   1|\n",
      "|               f|           6|    4|   1|\n",
      "|               f|           7|    4|   1|\n",
      "|               f|           8|    4|   1|\n",
      "|               f|           9|    4|   1|\n",
      "|               f|          10|    4|   1|\n",
      "+----------------+------------+-----+----+\n",
      "\n"
     ]
    }
   ],
   "source": [
    "new_df.show(200)"
   ]
  },
  {
   "cell_type": "code",
   "execution_count": 69,
   "metadata": {},
   "outputs": [
    {
     "name": "stderr",
     "output_type": "stream",
     "text": [
      "                                                                                \r"
     ]
    }
   ],
   "source": [
    "top = df.filter(\n",
    "    \n",
    "    df.block_height.between(1,5)\n",
    "    \n",
    "    ).\\\n",
    "    groupBy(\"operator_address\").agg({\"score\": \"mean\"}).\\\n",
    "    orderBy(F.col(\"avg(score)\").desc())\n",
    "\n",
    "list = []\n",
    "for i in top.head(2):\n",
    "    list.append(i.operator_address)\n",
    "\n",
    "new_df = df.filter(\n",
    "      df.operator_address.isin(list)\n",
    "  )"
   ]
  },
  {
   "cell_type": "code",
   "execution_count": 70,
   "metadata": {},
   "outputs": [
    {
     "name": "stdout",
     "output_type": "stream",
     "text": [
      "+----------------+------------+-----+\n",
      "|operator_address|block_height|score|\n",
      "+----------------+------------+-----+\n",
      "|               a|           1|  200|\n",
      "|               a|           2|    5|\n",
      "|               a|           3|    2|\n",
      "|               a|           4|    2|\n",
      "|               a|           5|    2|\n",
      "|               a|           6|    2|\n",
      "|               a|           7|    2|\n",
      "|               a|           8|    2|\n",
      "|               a|           9|    2|\n",
      "|               a|          10|    2|\n",
      "|               b|           1|    4|\n",
      "|               b|           2|    4|\n",
      "|               b|           3|   20|\n",
      "|               b|           4|   12|\n",
      "|               b|           6|    4|\n",
      "|               b|           7|    4|\n",
      "|               b|           8|   10|\n",
      "|               b|           9|    4|\n",
      "|               b|          10|    4|\n",
      "+----------------+------------+-----+\n",
      "\n"
     ]
    }
   ],
   "source": [
    "new_df.show(100)"
   ]
  },
  {
   "cell_type": "code",
   "execution_count": 66,
   "metadata": {},
   "outputs": [
    {
     "name": "stdout",
     "output_type": "stream",
     "text": [
      "+----------------+------------+-----+\n",
      "|operator_address|block_height|score|\n",
      "+----------------+------------+-----+\n",
      "|               a|           1|  200|\n",
      "|               a|           2|    5|\n",
      "|               a|           3|    2|\n",
      "|               a|           4|    2|\n",
      "|               a|           5|    2|\n",
      "|               a|           6|    2|\n",
      "|               a|           7|    2|\n",
      "|               a|           8|    2|\n",
      "|               a|           9|    2|\n",
      "|               a|          10|    2|\n",
      "|               b|           1|    4|\n",
      "|               b|           2|    4|\n",
      "|               b|           3|   20|\n",
      "|               b|           4|   12|\n",
      "|               b|           6|    4|\n",
      "|               b|           7|    4|\n",
      "|               b|           8|   10|\n",
      "|               b|           9|    4|\n",
      "|               b|          10|    4|\n",
      "|               f|           1|    4|\n",
      "|               f|           2|    4|\n",
      "|               f|           3|    4|\n",
      "|               f|           4|    4|\n",
      "|               f|           5|    7|\n",
      "|               f|           6|    4|\n",
      "|               f|           7|    4|\n",
      "|               f|           8|    4|\n",
      "|               f|           9|    4|\n",
      "|               f|          10|    4|\n",
      "+----------------+------------+-----+\n",
      "\n"
     ]
    }
   ],
   "source": [
    "new_df.show(100)"
   ]
  },
  {
   "cell_type": "code",
   "execution_count": 48,
   "metadata": {},
   "outputs": [
    {
     "name": "stdout",
     "output_type": "stream",
     "text": [
      "+----------------+------------+-----+\n",
      "|operator_address|block_height|score|\n",
      "+----------------+------------+-----+\n",
      "|               a|           1|    2|\n",
      "|               a|           2|    5|\n",
      "|               a|           3|    2|\n",
      "|               a|           4|    2|\n",
      "|               a|           5|    2|\n",
      "|               a|           6|    2|\n",
      "|               a|           7|    2|\n",
      "|               a|           8|    2|\n",
      "|               a|           9|    2|\n",
      "|               a|          10|    2|\n",
      "|               c|           1|    4|\n",
      "|               c|           2|    4|\n",
      "|               c|           3|    4|\n",
      "|               c|           4|    4|\n",
      "|               c|           6|    4|\n",
      "|               c|           7|    4|\n",
      "|               c|           8|    4|\n",
      "|               c|           9|    4|\n",
      "|               c|          10|    4|\n",
      "+----------------+------------+-----+\n",
      "\n"
     ]
    }
   ],
   "source": []
  },
  {
   "cell_type": "code",
   "execution_count": null,
   "metadata": {},
   "outputs": [],
   "source": []
  },
  {
   "cell_type": "code",
   "execution_count": null,
   "metadata": {},
   "outputs": [],
   "source": []
  },
  {
   "cell_type": "code",
   "execution_count": null,
   "metadata": {},
   "outputs": [],
   "source": []
  },
  {
   "cell_type": "code",
   "execution_count": null,
   "metadata": {},
   "outputs": [],
   "source": []
  },
  {
   "cell_type": "code",
   "execution_count": null,
   "metadata": {},
   "outputs": [],
   "source": []
  },
  {
   "cell_type": "code",
   "execution_count": null,
   "metadata": {},
   "outputs": [],
   "source": []
  },
  {
   "cell_type": "code",
   "execution_count": 13,
   "metadata": {},
   "outputs": [
    {
     "data": {
      "text/plain": [
       "38"
      ]
     },
     "execution_count": 13,
     "metadata": {},
     "output_type": "execute_result"
    }
   ],
   "source": [
    "42-4"
   ]
  },
  {
   "cell_type": "code",
   "execution_count": 16,
   "metadata": {},
   "outputs": [],
   "source": [
    "list = [\"oraivaloper18tf4uwrkcd4qk87jz3n0ruhsdzeg3fmdsdaw04\",\n",
    "\"oraivaloper102rpf06zhyrfps4qzvehqjtr7rh52us5z2959t\",\n",
    "\"oraivaloper10z9f6539v0ge78xlm4yh7tddrvw445s6d7s2xq\",\n",
    "\"oraivaloper1zwxeq68hunufljymhy0f0x7r2vvh9mu2hh8nt8\",\n",
    "\"oraivaloper1yujklf8xlcngsdylgqj352pj9x3yvrrwf3spc8\",\n",
    "\"oraivaloper1mrv57zj3dpfyc9yd5xptnz2tqfez9fss4c9r85\",\n",
    "\"oraivaloper17zr98cwzfqdwh69r8v5nrktsalmgs5sa83gpd9\",\n",
    "\"oraivaloper1n4xkr4k4rpynp020e8xfqwm2e95g7rzx7w6kgl\",\n",
    "\"oraivaloper1nedr7579x9dp6s3rrt7n5a5s5qczpnnstanuk5\",\n",
    "\"oraivaloper16spaytw7nhdrv9lar0quwj6eex8cw9pvmtynxd\",\n",
    "\"oraivaloper1asz5wl5c2xt8y5kyp9r04v54zh77pq90qar7e8\",\n",
    "\"oraivaloper1djm07np8dzyg4et3d7dqtr3692l80nggvl0edh\",\n",
    "\"oraivaloper1ucx0gm8kca2zvyr9d39z249j62y2t8r0rwtmr6\",\n",
    "\"oraivaloper1ch3ewye24zm094ygmxu5e4z7d0xre3vhthctpn\",\n",
    "\"oraivaloper1w96q7rrd6edc3fpmw6zayzdf5ajzucrnw3pt3s\",\n",
    "\"oraivaloper1v26tdegnk79edw7xkk2xh8qn89vy6qej6yhsev\",\n",
    "\"oraivaloper1kh9vejqxqqccavtv2nf683mx0z85mfpd7q566q\",\n",
    "\"oraivaloper1d2ths86a84rxpp7s9j64qgrypntw2pn7lndfgs\",\n",
    "\"oraivaloper1xsptthm2ylfw0salut97ldfan2jt032nye7s00\",\n",
    "\"oraivaloper1qv5jn7tueeqw7xqdn5rem7s09n7zletreera88\",\n",
    "\"oraivaloper16e6cpk6ycddk6208fpaya7tmmardhvr7h40yqy\",\n",
    "\"oraivaloper10n3fs6fkl4fp9dcsdfl2vl3ay7pk7snntfg7da\",\n",
    "\"oraivaloper130jsl66rgss6eq7qur02yfr6tzppdvxglz7n7g\",\n",
    "\"oraivaloper1yc9nysml8dxy447hp3aytr0nssr9pd9a47l7gx\",\n",
    "\"oraivaloper109vcny07r3waj9sld4ejasjyal0rudskeax7uc\",\n",
    "\"oraivaloper1h89umsrsstyeuet8kllwvf2tp630n77aymck78\",\n",
    "\"oraivaloper1mxqeldsxg60t2y6gngpdm5jf3k96dnju5el96f\",\n",
    "\"oraivaloper1rqq57xt5r5pnuguffcrltnvkul7n0jdxxdgey0\",\n",
    "\"oraivaloper1uhcwtfntsvk8gpwfxltesyl4e28aalmq9v9z0x\",\n",
    "\"oraivaloper1xesqr8vjvy34jhu027zd70ypl0nnev5euy9nyl\",\n",
    "\"oraivaloper1cp0jml5fxkdvmajcwvkue9d0sym6s0vqly88hg\",\n",
    "\"oraivaloper1u2344d8jwtsx5as7u5jw7vel28puh34q7d3y64\",\n",
    "\"oraivaloper1f6q9wjn8qp3ll8y8ztd8290vtec2yxyxxygyy2\",\n",
    "\"oraivaloper1h9gg3xavqdau6uy3r36vn4juvzsg0lqvszgtvc\",\n",
    "\"oraivaloper14nz2pqskfv9kcez8u0a9gnnsgwjerzqxpmne0y\",\n",
    "\"oraivaloper1m2d5uhr65p9vvlw2w29kajud5q529a76v22wyu\",\n",
    "\"oraivaloper13ckyvg0ah9vuujtd49yner2ky92lej6nwjvrjv\",\n",
    "\"oraivaloper12ru3276mkzuuay6vhmg3t6z9hpvrsnplm2994n\",\n",
    "\"oraivaloper14vcw5qk0tdvknpa38wz46js5g7vrvut8ku5kaa\"]"
   ]
  },
  {
   "cell_type": "code",
   "execution_count": 17,
   "metadata": {},
   "outputs": [
    {
     "data": {
      "text/plain": [
       "39"
      ]
     },
     "execution_count": 17,
     "metadata": {},
     "output_type": "execute_result"
    }
   ],
   "source": [
    "len(list)"
   ]
  },
  {
   "cell_type": "code",
   "execution_count": 15,
   "metadata": {},
   "outputs": [],
   "source": [
    "list = [1,2]"
   ]
  },
  {
   "cell_type": "code",
   "execution_count": null,
   "metadata": {},
   "outputs": [],
   "source": []
  },
  {
   "cell_type": "code",
   "execution_count": null,
   "metadata": {},
   "outputs": [],
   "source": []
  },
  {
   "cell_type": "code",
   "execution_count": null,
   "metadata": {},
   "outputs": [],
   "source": []
  },
  {
   "cell_type": "code",
   "execution_count": null,
   "metadata": {},
   "outputs": [],
   "source": []
  },
  {
   "cell_type": "code",
   "execution_count": null,
   "metadata": {},
   "outputs": [],
   "source": []
  }
 ],
 "metadata": {
  "interpreter": {
   "hash": "aee8b7b246df8f9039afb4144a1f6fd8d2ca17a180786b69acc140d282b71a49"
  },
  "kernelspec": {
   "display_name": "Python 3.10.0 64-bit",
   "language": "python",
   "name": "python3"
  },
  "language_info": {
   "codemirror_mode": {
    "name": "ipython",
    "version": 3
   },
   "file_extension": ".py",
   "mimetype": "text/x-python",
   "name": "python",
   "nbconvert_exporter": "python",
   "pygments_lexer": "ipython3",
   "version": "3.9.12"
  },
  "orig_nbformat": 4
 },
 "nbformat": 4,
 "nbformat_minor": 2
}
